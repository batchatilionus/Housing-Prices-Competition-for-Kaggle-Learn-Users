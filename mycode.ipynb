{
 "cells": [
  {
   "cell_type": "code",
   "execution_count": 110,
   "metadata": {},
   "outputs": [],
   "source": [
    "import warnings\n",

    "import pandas as pd\n",
    "import numpy as np\n",
    "import seaborn as sns\n",
    "import matplotlib.pyplot as plt\n",
    "import plotly.graph_objects as go\n",
    "from sklearn.model_selection import train_test_split, GridSearchCV\n",
    "from sklearn.linear_model import LinearRegression, Lasso, Ridge\n",
    "from sklearn.ensemble import RandomForestRegressor\n",
    "from sklearn.tree import DecisionTreeRegressor\n",
    "from sklearn.preprocessing import StandardScaler\n",
    "from sklearn.metrics import mean_absolute_error,r2_score\n",
    "from xgboost import XGBRegressor\n",
    "from sklearn.preprocessing import OneHotEncoder\n",
    "from sklearn.decomposition import PCA\n",
    "from plotly.offline import  iplot"
   ]
  },
  {
   "cell_type": "markdown",
   "metadata": {},
   "source": [
    "Отключение warnings"
   ]
  },
  {
   "cell_type": "code",
   "execution_count": 72,
   "metadata": {},
   "outputs": [],
   "source": [
    "warnings.filterwarnings('ignore')"
   ]
  },
  {
   "cell_type": "markdown",
   "metadata": {},
   "source": [
    "Анализ типов данных и количества пропусков"
   ]
  },
  {
   "cell_type": "code",
   "execution_count": 73,
   "metadata": {},
   "outputs": [
    {
     "name": "stdout",
     "output_type": "stream",
     "text": [
      "<class 'pandas.core.frame.DataFrame'>\n",
      "RangeIndex: 1460 entries, 0 to 1459\n",
      "Data columns (total 81 columns):\n",
      " #   Column         Non-Null Count  Dtype  \n",
      "---  ------         --------------  -----  \n",
      " 0   Id             1460 non-null   int64  \n",
      " 1   MSSubClass     1460 non-null   int64  \n",
      " 2   MSZoning       1460 non-null   object \n",
      " 3   LotFrontage    1201 non-null   float64\n",
      " 4   LotArea        1460 non-null   int64  \n",
      " 5   Street         1460 non-null   object \n",
      " 6   Alley          91 non-null     object \n",
      " 7   LotShape       1460 non-null   object \n",
      " 8   LandContour    1460 non-null   object \n",
      " 9   Utilities      1460 non-null   object \n",
      " 10  LotConfig      1460 non-null   object \n",
      " 11  LandSlope      1460 non-null   object \n",
      " 12  Neighborhood   1460 non-null   object \n",
      " 13  Condition1     1460 non-null   object \n",
      " 14  Condition2     1460 non-null   object \n",
      " 15  BldgType       1460 non-null   object \n",
      " 16  HouseStyle     1460 non-null   object \n",
      " 17  OverallQual    1460 non-null   int64  \n",
      " 18  OverallCond    1460 non-null   int64  \n",
      " 19  YearBuilt      1460 non-null   int64  \n",
      " 20  YearRemodAdd   1460 non-null   int64  \n",
      " 21  RoofStyle      1460 non-null   object \n",
      " 22  RoofMatl       1460 non-null   object \n",
      " 23  Exterior1st    1460 non-null   object \n",
      " 24  Exterior2nd    1460 non-null   object \n",
      " 25  MasVnrType     588 non-null    object \n",
      " 26  MasVnrArea     1452 non-null   float64\n",
      " 27  ExterQual      1460 non-null   object \n",
      " 28  ExterCond      1460 non-null   object \n",
      " 29  Foundation     1460 non-null   object \n",
      " 30  BsmtQual       1423 non-null   object \n",
      " 31  BsmtCond       1423 non-null   object \n",
      " 32  BsmtExposure   1422 non-null   object \n",
      " 33  BsmtFinType1   1423 non-null   object \n",
      " 34  BsmtFinSF1     1460 non-null   int64  \n",
      " 35  BsmtFinType2   1422 non-null   object \n",
      " 36  BsmtFinSF2     1460 non-null   int64  \n",
      " 37  BsmtUnfSF      1460 non-null   int64  \n",
      " 38  TotalBsmtSF    1460 non-null   int64  \n",
      " 39  Heating        1460 non-null   object \n",
      " 40  HeatingQC      1460 non-null   object \n",
      " 41  CentralAir     1460 non-null   object \n",
      " 42  Electrical     1459 non-null   object \n",
      " 43  1stFlrSF       1460 non-null   int64  \n",
      " 44  2ndFlrSF       1460 non-null   int64  \n",
      " 45  LowQualFinSF   1460 non-null   int64  \n",
      " 46  GrLivArea      1460 non-null   int64  \n",
      " 47  BsmtFullBath   1460 non-null   int64  \n",
      " 48  BsmtHalfBath   1460 non-null   int64  \n",
      " 49  FullBath       1460 non-null   int64  \n",
      " 50  HalfBath       1460 non-null   int64  \n",
      " 51  BedroomAbvGr   1460 non-null   int64  \n",
      " 52  KitchenAbvGr   1460 non-null   int64  \n",
      " 53  KitchenQual    1460 non-null   object \n",
      " 54  TotRmsAbvGrd   1460 non-null   int64  \n",
      " 55  Functional     1460 non-null   object \n",
      " 56  Fireplaces     1460 non-null   int64  \n",
      " 57  FireplaceQu    770 non-null    object \n",
      " 58  GarageType     1379 non-null   object \n",
      " 59  GarageYrBlt    1379 non-null   float64\n",
      " 60  GarageFinish   1379 non-null   object \n",
      " 61  GarageCars     1460 non-null   int64  \n",
      " 62  GarageArea     1460 non-null   int64  \n",
      " 63  GarageQual     1379 non-null   object \n",
      " 64  GarageCond     1379 non-null   object \n",
      " 65  PavedDrive     1460 non-null   object \n",
      " 66  WoodDeckSF     1460 non-null   int64  \n",
      " 67  OpenPorchSF    1460 non-null   int64  \n",
      " 68  EnclosedPorch  1460 non-null   int64  \n",
      " 69  3SsnPorch      1460 non-null   int64  \n",
      " 70  ScreenPorch    1460 non-null   int64  \n",
      " 71  PoolArea       1460 non-null   int64  \n",
      " 72  PoolQC         7 non-null      object \n",
      " 73  Fence          281 non-null    object \n",
      " 74  MiscFeature    54 non-null     object \n",
      " 75  MiscVal        1460 non-null   int64  \n",
      " 76  MoSold         1460 non-null   int64  \n",
      " 77  YrSold         1460 non-null   int64  \n",
      " 78  SaleType       1460 non-null   object \n",
      " 79  SaleCondition  1460 non-null   object \n",
      " 80  SalePrice      1460 non-null   int64  \n",
      "dtypes: float64(3), int64(35), object(43)\n",
      "memory usage: 924.0+ KB\n"
     ]
    }
   ],
   "source": [
    "df=pd.read_csv(\"data/train.csv\")\n",
    "df.info()"
   ]
  },
  {
   "cell_type": "markdown",
   "metadata": {},
   "source": [
    "Тепловая карта пропусков и их аоличество для каждого признака"
   ]
  },
  {
   "cell_type": "code",
   "execution_count": 74,
   "metadata": {},
   "outputs": [
    {
     "name": "stdout",
     "output_type": "stream",
     "text": [
      "PoolQC       1453\n",
      "MiscFeature       1406\n",
      "Alley       1369\n",
      "Fence       1179\n",
      "MasVnrType       872\n",
      "FireplaceQu       690\n",
      "LotFrontage       259\n",
      "GarageType       81\n",
      "GarageYrBlt       81\n",
      "GarageFinish       81\n",
      "GarageQual       81\n",
      "GarageCond       81\n",
      "BsmtExposure       38\n",
      "BsmtFinType2       38\n",
      "BsmtQual       37\n",
      "BsmtCond       37\n",
      "BsmtFinType1       37\n",
      "MasVnrArea       8\n",
      "Electrical       1\n"
     ]
    },
    {
     "data": {
      "image/png": "[encoded data removed]",
      "text/plain": [
       "<Figure size 640x480 with 1 Axes>"
      ]
     },
     "metadata": {},
     "output_type": "display_data"
    }
   ],
   "source": [
    "na_count=[]\n",
    "for column in df.columns:\n",
    "    na_count.append((column,np.count_nonzero(df[column].isnull())))\n",
    "na_count.sort(key=lambda x:x[1],reverse=True)\n",
    "for i in na_count:\n",
    "    if i[1]==0:break\n",
    "    print(i[0],'     ',i[1])\n",
    "\n",
    "sns.heatmap(df.isnull(),yticklabels=False,cbar=False,cmap='viridis');"
   ]
  },
  {
   "cell_type": "markdown",
   "metadata": {},
   "source": [
    "Имеются колонки с большим и неочень колтчеством пропусков. Исходя из специфики данных, а так же малым количеством пропусков относительно количества информации в датасете, можно сделать предположение о эффективности заполения пропусков нулями. "
   ]
  },
  {
   "cell_type": "markdown",
   "metadata": {},
   "source": [
    "Далее описаны функции предобработки тренировачных и тестовых данных:"
   ]
  },
  {
   "cell_type": "code",
   "execution_count": 75,
   "metadata": {},
   "outputs": [],
   "source": [
    "def preproc_x_train(x:pd.DataFrame,num_fillna,num_scaler:StandardScaler,obj_formater:OneHotEncoder):\n",
    "\n",
    "    x_num = x.select_dtypes(['float64','int64'])\n",
    "    x_num = (x_num.fillna(num_fillna(x_num)))\n",
    "    x_num.index = range(len(x_num))\n",
    "\n",
    "    x_obj = x.select_dtypes(['object']).fillna('Nan')\n",
    "    obj_df_encode = obj_formater.fit_transform(x_obj)\n",
    "\n",
    "    encode_columns=[]\n",
    "    for column, postfixes in zip(x_obj.columns,obj_formater.categories_):\n",
    "        for postfix in postfixes:\n",
    "            encode_columns.append(str(column+'_'+str(postfix).replace(' ','_')))\n",
    "    \n",
    "    x_obj_formated = pd.DataFrame(obj_df_encode.toarray(),columns = encode_columns)\n",
    "    x_train = pd.concat([x_num,x_obj_formated], axis = 1)\n",
    "    x_train = pd.DataFrame(data=num_scaler.fit_transform(x_train),columns = x_train.columns)\n",
    "\n",
    "    return x_train,num_scaler, obj_formater\n",
    "\n",
    "\n",
    "\n",
    "def preproc_x_test(x:pd.DataFrame,num_fillna,num_scaler:StandardScaler,obj_formater:OneHotEncoder):\n",
    "\n",
    "    x_num=x.select_dtypes(['float64','int64'])\n",
    "    x_num=x_num.fillna(num_fillna(x_num))\n",
    "    x_num.index=range(len(x_num))\n",
    "\n",
    "    x_obj=x.select_dtypes(['object']).fillna('Nan')\n",
    "    obj_df_encode = obj_formater.transform(x_obj)\n",
    "\n",
    "    encode_columns=[]\n",
    "    for column, postfixes in zip(x_obj.columns,obj_formater.categories_):\n",
    "        for postfix in postfixes:\n",
    "            encode_columns.append(str(column+'_'+str(postfix).replace(' ','_')))\n",
    "\n",
    "    x_obj_formated=pd.DataFrame(obj_df_encode.toarray(),columns=encode_columns)\n",
    "\n",
    "    x_test=pd.concat([x_num,x_obj_formated], axis=1)\n",
    "    x_test=pd.DataFrame(data=num_scaler.transform(x_test),columns=x_test.columns)\n",
    "\n",
    "    return x_test\n",
    "\n",
    "\n",
    "def preprocess_y_train(y:pd.DataFrame,y_scaler:StandardScaler):\n",
    "    y_test=pd.DataFrame(y_scaler.fit_transform(y), columns=['SalePrice'])\n",
    "    return y_test,y_scaler\n",
    "    "
   ]
  },
  {
   "cell_type": "markdown",
   "metadata": {},
   "source": [
    "Разбиение данных на тренировочные и тестовые. Предобработка данных. "
   ]
  },
  {
   "cell_type": "code",
   "execution_count": 114,
   "metadata": {},
   "outputs": [],
   "source": [
    "train,test=train_test_split(df,test_size=0.3)\n",
    "\n",
    "train=train.sort_values(by='SalePrice')\n",
    "y_train=train['SalePrice']\n",
    "x_train=train.drop(columns=['SalePrice','Id'])\n",
    "\n",
    "y_test=test['SalePrice']\n",
    "x_test=test.drop(columns=['SalePrice','Id'])\n",
    "\n",
    "num_fillna=lambda x:0\n",
    "num_scaler=StandardScaler()\n",
    "obj_formater=OneHotEncoder(handle_unknown='ignore') \n",
    "pca_n_components=0\n",
    "y_scaler=StandardScaler()\n",
    "\n",
    "x_train_formated,num_scaler,obj_formater=preproc_x_train(x_train,num_fillna,num_scaler,obj_formater)\n",
    "x_test_formated=preproc_x_test(x_test,num_fillna,num_scaler,obj_formater)\n",
    "y_train_formated,y_scaler=preprocess_y_train(pd.DataFrame(y_train),y_scaler)\n"
   ]
  },
  {
   "cell_type": "markdown",
   "metadata": {},
   "source": [
    "Анализ оптимального количества итоговых конмпонент PCA"
   ]
  },
  {
   "cell_type": "code",
   "execution_count": 77,
   "metadata": {},
   "outputs": [],
   "source": [
    "score=[]\n",
    "step=5\n",
    "\n",
    "N=len(x_train_formated.columns)\n",
    "for n in range(int(N/step)):\n",
    "    n_comp=N-n*step\n",
    "    formater=PCA(n_components=n_comp)\n",
    "    formater.fit(x_train_formated)\n",
    "    score.append(np.sum(formater.explained_variance_ratio_*n*step))"
   ]
  },
  {
   "cell_type": "markdown",
   "metadata": {},
   "source": [
    "Визуализация спроектированное метрики эффективности понижения размерности методом PCA"
   ]
  },
  {
   "cell_type": "code",
   "execution_count": 78,
   "metadata": {},
   "outputs": [
    {
     "name": "stdout",
     "output_type": "stream",
     "text": [
      "BEST SCORE\n",
      "Features count: 296\n",
      "Drop components count: 205\n",
      "Final featues count: 91\n",
      "Press ratio: 0.6925675675675675\n",
      "Saved info: 0.7485637836186996\n"
     ]
    },
    {
     "data": {
      "image/png": "[encoded data removed]",
      "text/plain": [
       "<Figure size 640x480 with 1 Axes>"
      ]
     },
     "metadata": {},
     "output_type": "display_data"
    }
   ],
   "source": [
    "plt.plot(score)\n",
    "drop_features=score.index(max(score))*step\n",
    "best_pca=PCA(n_components=N-drop_features)\n",
    "best_pca.fit(x_train_formated)\n",
    "\n",
    "plt.scatter([drop_features/step],[np.sum(best_pca.explained_variance_ratio_*drop_features)],c='r')\n",
    "\n",
    "print('BEST SCORE')\n",
    "print('Features count:',N)\n",
    "print('Drop components count:',drop_features)\n",
    "print('Final featues count:', N-drop_features)\n",
    "print('Press ratio:', drop_features/N)\n",
    "print('Saved info:',np.sum(best_pca.explained_variance_ratio_))"
   ]
  },
  {
   "cell_type": "markdown",
   "metadata": {},
   "source": [
    "Красной точкой обозначена точка экстремума, символизирующая оптимальное количество компонент.\n",
    "\n",
    "Данный метод понижения размерности не был применен в конечном решении, однако оставил наработки для демонстрации спроектированной метрики."
   ]
  },
  {
   "cell_type": "markdown",
   "metadata": {},
   "source": [
    "<h2>Models.</h2>"
   ]
  },
  {
   "cell_type": "markdown",
   "metadata": {},
   "source": [
    "Далее описана функция реализующая обучение модели и вычисление метрик"
   ]
  },
  {
   "cell_type": "code",
   "execution_count": 79,
   "metadata": {},
   "outputs": [],
   "source": [
    "def fit_test(estimaror, param_grid,x_train,y_train,x_test,y_test,y_scaler:StandardScaler,cv=3):\n",
    "\n",
    "    regressor=GridSearchCV(estimator=estimaror,param_grid=param_grid,cv=cv)\n",
    "    regressor.fit(x_train, y_train)\n",
    "    \n",
    "    y_pred_train=y_scaler.inverse_transform(pd.DataFrame(regressor.predict(x_train)))\n",
    "    train_mae=mean_absolute_error(y_scaler.inverse_transform(y_train), y_pred_train)\n",
    "    train_r2=r2_score(y_scaler.inverse_transform(y_train), y_pred_train)\n",
    "\n",
    "\n",
    "    y_pred_scale=regressor.predict(x_test)\n",
    "    y_pred=y_scaler.inverse_transform(pd.DataFrame(y_pred_scale))\n",
    "    test_mae=mean_absolute_error(y_test, y_pred)\n",
    "    test_r2=r2_score(y_test, y_pred)\n",
    "\n",
    "    print('Best params:', regressor.best_params_)\n",
    "    print('Train MAE:', train_mae)\n",
    "    print('Train R2:', train_r2)\n",
    "    print('Test MAE:', test_mae)\n",
    "    print('Test R2:', test_r2)\n",
    "\n",
    "    return regressor, y_pred, test_mae, test_r2\n"
   ]
  },
  {
   "cell_type": "markdown",
   "metadata": {},
   "source": [
    "Создаю словарь для записи метрик для разных моделей"
   ]
  },
  {
   "cell_type": "code",
   "execution_count": 80,
   "metadata": {},
   "outputs": [],
   "source": [
    "metrics={}"
   ]
  },
  {
   "cell_type": "markdown",
   "metadata": {},
   "source": [
    "<h3>Raw Linear Regrassion</h3>"
   ]
  },
  {
   "cell_type": "code",
   "execution_count": 81,
   "metadata": {},
   "outputs": [
    {
     "name": "stdout",
     "output_type": "stream",
     "text": [
      "Raw LinearRegression\n",
      "Best params: {}\n",
      "Train MAE: 12060.157554452655\n",
      "Train R2: 0.9519402683762834\n",
      "Test MAE: 1.0517641672088404e+16\n",
      "Test R2: -1.3396903784935418e+24\n"
     ]
    }
   ],
   "source": [
    "print('Raw LinearRegression')\n",
    "params={}\n",
    "regressor,y_pred, test_mae, test_r2=fit_test(estimaror=LinearRegression(),\n",
    "         param_grid=params,\n",
    "         x_train=x_train_formated,\n",
    "         y_train=y_train_formated,\n",
    "         x_test=x_test_formated,\n",
    "         y_test=y_test,\n",
    "         y_scaler=y_scaler\n",
    "       )\n",
    "\n",
    "metrics['Raw LinearRegression']={'mae':test_mae,'r2':test_r2}"
   ]
  },
  {
   "cell_type": "markdown",
   "metadata": {},
   "source": [
    "Некорректное поведение на тестовой выборке"
   ]
  },
  {
   "cell_type": "markdown",
   "metadata": {},
   "source": [
    "<h3>Select features with Lasso</h3>"
   ]
  },
  {
   "cell_type": "code",
   "execution_count": 82,
   "metadata": {},
   "outputs": [
    {
     "name": "stdout",
     "output_type": "stream",
     "text": [
      "Lasso\n",
      "Best params: {'alpha': 0.020000000000000004}\n",
      "Train MAE: 14627.885495770486\n",
      "Train R2: 0.922331447605407\n",
      "Test MAE: 16275.862782121107\n",
      "Test R2: 0.8650210896302517\n"
     ]
    }
   ],
   "source": [
    "print('Lasso')\n",
    "params={'alpha':np.linspace(0.01,0.1, 10)}\n",
    "lasso_regressor, y_pred, test_mae, test_r2=fit_test(estimaror=Lasso(),\n",
    "         param_grid=params,\n",
    "         x_train=x_train_formated,\n",
    "         y_train=y_train_formated,\n",
    "         x_test=x_test_formated,\n",
    "         y_test=y_test,\n",
    "         y_scaler=y_scaler\n",
    "       )\n",
    "\n",
    "metrics['Lasso']={'mae':test_mae,'r2':test_r2}"
   ]
  },
  {
   "cell_type": "markdown",
   "metadata": {},
   "source": [
    "Адекватная отработка на тестовой выборке. Сходу хорошие значения метрик.\n",
    "\n",
    "Вывод признаком и соответствующих весов в убывающем порядке:"
   ]
  },
  {
   "cell_type": "code",
   "execution_count": 83,
   "metadata": {},
   "outputs": [
    {
     "data": {
      "text/html": [
       "<div>\n",
       "<style scoped>\n",
       "    .dataframe tbody tr th:only-of-type {\n",
       "        vertical-align: middle;\n",
       "    }\n",
       "\n",
       "    .dataframe tbody tr th {\n",
       "        vertical-align: top;\n",
       "    }\n",
       "\n",
       "    .dataframe thead th {\n",
       "        text-align: right;\n",
       "    }\n",
       "</style>\n",
       "<table border=\"1\" class=\"dataframe\">\n",
       "  <thead>\n",
       "    <tr style=\"text-align: right;\">\n",
       "      <th></th>\n",
       "      <th>coef</th>\n",
       "    </tr>\n",
       "  </thead>\n",
       "  <tbody>\n",
       "    <tr>\n",
       "      <th>GrLivArea</th>\n",
       "      <td>0.338414</td>\n",
       "    </tr>\n",
       "    <tr>\n",
       "      <th>OverallQual</th>\n",
       "      <td>0.164010</td>\n",
       "    </tr>\n",
       "    <tr>\n",
       "      <th>YearBuilt</th>\n",
       "      <td>0.106344</td>\n",
       "    </tr>\n",
       "    <tr>\n",
       "      <th>TotalBsmtSF</th>\n",
       "      <td>0.090951</td>\n",
       "    </tr>\n",
       "    <tr>\n",
       "      <th>KitchenQual_Ex</th>\n",
       "      <td>0.084121</td>\n",
       "    </tr>\n",
       "    <tr>\n",
       "      <th>...</th>\n",
       "      <td>...</td>\n",
       "    </tr>\n",
       "    <tr>\n",
       "      <th>KitchenAbvGr</th>\n",
       "      <td>-0.018433</td>\n",
       "    </tr>\n",
       "    <tr>\n",
       "      <th>BsmtExposure_No</th>\n",
       "      <td>-0.027862</td>\n",
       "    </tr>\n",
       "    <tr>\n",
       "      <th>ExterQual_TA</th>\n",
       "      <td>-0.036046</td>\n",
       "    </tr>\n",
       "    <tr>\n",
       "      <th>Condition2_PosN</th>\n",
       "      <td>-0.131256</td>\n",
       "    </tr>\n",
       "    <tr>\n",
       "      <th>RoofMatl_ClyTile</th>\n",
       "      <td>-0.202464</td>\n",
       "    </tr>\n",
       "  </tbody>\n",
       "</table>\n",
       "<p>296 rows × 1 columns</p>\n",
       "</div>"
      ],
      "text/plain": [
       "                      coef\n",
       "GrLivArea         0.338414\n",
       "OverallQual       0.164010\n",
       "YearBuilt         0.106344\n",
       "TotalBsmtSF       0.090951\n",
       "KitchenQual_Ex    0.084121\n",
       "...                    ...\n",
       "KitchenAbvGr     -0.018433\n",
       "BsmtExposure_No  -0.027862\n",
       "ExterQual_TA     -0.036046\n",
       "Condition2_PosN  -0.131256\n",
       "RoofMatl_ClyTile -0.202464\n",
       "\n",
       "[296 rows x 1 columns]"
      ]
     },
     "execution_count": 83,
     "metadata": {},
     "output_type": "execute_result"
    }
   ],
   "source": [
    "coefs=pd.DataFrame(lasso_regressor.best_estimator_.coef_, x_test_formated.columns, columns=[\"coef\"]).sort_values(by=\"coef\", ascending=False)\n",
    "coefs"
   ]
  },
  {
   "cell_type": "markdown",
   "metadata": {},
   "source": [
    "Анализ изменения количества признаком при изменении порогового значения"
   ]
  },
  {
   "cell_type": "code",
   "execution_count": 84,
   "metadata": {},
   "outputs": [
    {
     "data": {
      "application/vnd.plotly.v1+json": {
       "config": {
        "plotlyServerURL": "https://plot.ly"
       },
       "data": [
        {
         "type": "scatter",
         "x": [
          0,
          0.002,
          0.004,
          0.006,
          0.008,
          0.01,
          0.012,
          0.014,
          0.016,
          0.018000000000000002,
          0.02,
          0.022,
          0.024,
          0.026000000000000002,
          0.028,
          0.03,
          0.032,
          0.034,
          0.036000000000000004,
          0.038,
          0.04,
          0.042,
          0.044,
          0.046,
          0.048,
          0.05,
          0.052000000000000005,
          0.054,
          0.056,
          0.058,
          0.06,
          0.062,
          0.064,
          0.066,
          0.068,
          0.07,
          0.07200000000000001,
          0.074,
          0.076,
          0.078,
          0.08,
          0.082,
          0.084,
          0.08600000000000001,
          0.088,
          0.09,
          0.092,
          0.094,
          0.096,
          0.098,
          0.1,
          0.10200000000000001,
          0.10400000000000001,
          0.106,
          0.108,
          0.11,
          0.112,
          0.114,
          0.116,
          0.11800000000000001,
          0.12,
          0.122,
          0.124,
          0.126,
          0.128,
          0.13,
          0.132,
          0.134,
          0.136,
          0.138,
          0.14,
          0.14200000000000002,
          0.14400000000000002,
          0.146,
          0.148,
          0.15,
          0.152,
          0.154,
          0.156,
          0.158,
          0.16,
          0.162,
          0.164,
          0.166,
          0.168,
          0.17,
          0.17200000000000001,
          0.17400000000000002,
          0.176,
          0.178,
          0.18,
          0.182,
          0.184,
          0.186,
          0.188,
          0.19,
          0.192,
          0.194,
          0.196,
          0.198,
          0.2,
          0.202,
          0.20400000000000001,
          0.20600000000000002,
          0.20800000000000002,
          0.21,
          0.212,
          0.214,
          0.216,
          0.218,
          0.22,
          0.222,
          0.224,
          0.226,
          0.228,
          0.23,
          0.232,
          0.234,
          0.23600000000000002,
          0.23800000000000002,
          0.24,
          0.242,
          0.244,
          0.246,
          0.248,
          0.25,
          0.252,
          0.254,
          0.256,
          0.258,
          0.26,
          0.262,
          0.264,
          0.266,
          0.268,
          0.27,
          0.272,
          0.274,
          0.276,
          0.278,
          0.28,
          0.28200000000000003,
          0.28400000000000003,
          0.28600000000000003,
          0.28800000000000003,
          0.29,
          0.292,
          0.294,
          0.296,
          0.298,
          0.3,
          0.302,
          0.304,
          0.306,
          0.308,
          0.31,
          0.312,
          0.314,
          0.316,
          0.318,
          0.32,
          0.322,
          0.324,
          0.326,
          0.328,
          0.33,
          0.332,
          0.334,
          0.336,
          0.338
         ],
         "y": [
          57,
          54,
          51,
          48,
          41,
          40,
          37,
          34,
          32,
          32,
          27,
          27,
          27,
          27,
          25,
          24,
          24,
          24,
          23,
          21,
          21,
          20,
          19,
          18,
          16,
          13,
          11,
          10,
          10,
          9,
          9,
          9,
          9,
          9,
          9,
          9,
          8,
          8,
          8,
          7,
          7,
          7,
          7,
          6,
          6,
          6,
          5,
          5,
          5,
          5,
          5,
          5,
          5,
          5,
          4,
          4,
          4,
          4,
          4,
          4,
          4,
          4,
          4,
          4,
          4,
          4,
          3,
          3,
          3,
          3,
          3,
          3,
          3,
          3,
          3,
          3,
          3,
          3,
          3,
          3,
          3,
          3,
          3,
          2,
          2,
          2,
          2,
          2,
          2,
          2,
          2,
          2,
          2,
          2,
          2,
          2,
          2,
          2,
          2,
          2,
          2,
          2,
          1,
          1,
          1,
          1,
          1,
          1,
          1,
          1,
          1,
          1,
          1,
          1,
          1,
          1,
          1,
          1,
          1,
          1,
          1,
          1,
          1,
          1,
          1,
          1,
          1,
          1,
          1,
          1,
          1,
          1,
          1,
          1,
          1,
          1,
          1,
          1,
          1,
          1,
          1,
          1,
          1,
          1,
          1,
          1,
          1,
          1,
          1,
          1,
          1,
          1,
          1,
          1,
          1,
          1,
          1,
          1,
          1,
          1,
          1,
          1,
          1,
          1,
          1,
          1,
          1,
          1,
          1,
          1
         ]
        }
       ],
       "layout": {
        "template": {
         "data": {
          "bar": [
           {
            "error_x": {
             "color": "#2a3f5f"
            },
            "error_y": {
             "color": "#2a3f5f"
            },
            "marker": {
             "line": {
              "color": "#E5ECF6",
              "width": 0.5
             },
             "pattern": {
              "fillmode": "overlay",
              "size": 10,
              "solidity": 0.2
             }
            },
            "type": "bar"
           }
          ],
          "barpolar": [
           {
            "marker": {
             "line": {
              "color": "#E5ECF6",
              "width": 0.5
             },
             "pattern": {
              "fillmode": "overlay",
              "size": 10,
              "solidity": 0.2
             }
            },
            "type": "barpolar"
           }
          ],
          "carpet": [
           {
            "aaxis": {
             "endlinecolor": "#2a3f5f",
             "gridcolor": "white",
             "linecolor": "white",
             "minorgridcolor": "white",
             "startlinecolor": "#2a3f5f"
            },
            "baxis": {
             "endlinecolor": "#2a3f5f",
             "gridcolor": "white",
             "linecolor": "white",
             "minorgridcolor": "white",
             "startlinecolor": "#2a3f5f"
            },
            "type": "carpet"
           }
          ],
          "choropleth": [
           {
            "colorbar": {
             "outlinewidth": 0,
             "ticks": ""
            },
            "type": "choropleth"
           }
          ],
          "contour": [
           {
            "colorbar": {
             "outlinewidth": 0,
             "ticks": ""
            },
            "colorscale": [
             [
              0,
              "#0d0887"
             ],
             [
              0.1111111111111111,
              "#46039f"
             ],
             [
              0.2222222222222222,
              "#7201a8"
             ],
             [
              0.3333333333333333,
              "#9c179e"
             ],
             [
              0.4444444444444444,
              "#bd3786"
             ],
             [
              0.5555555555555556,
              "#d8576b"
             ],
             [
              0.6666666666666666,
              "#ed7953"
             ],
             [
              0.7777777777777778,
              "#fb9f3a"
             ],
             [
              0.8888888888888888,
              "#fdca26"
             ],
             [
              1,
              "#f0f921"
             ]
            ],
            "type": "contour"
           }
          ],
          "contourcarpet": [
           {
            "colorbar": {
             "outlinewidth": 0,
             "ticks": ""
            },
            "type": "contourcarpet"
           }
          ],
          "heatmap": [
           {
            "colorbar": {
             "outlinewidth": 0,
             "ticks": ""
            },
            "colorscale": [
             [
              0,
              "#0d0887"
             ],
             [
              0.1111111111111111,
              "#46039f"
             ],
             [
              0.2222222222222222,
              "#7201a8"
             ],
             [
              0.3333333333333333,
              "#9c179e"
             ],
             [
              0.4444444444444444,
              "#bd3786"
             ],
             [
              0.5555555555555556,
              "#d8576b"
             ],
             [
              0.6666666666666666,
              "#ed7953"
             ],
             [
              0.7777777777777778,
              "#fb9f3a"
             ],
             [
              0.8888888888888888,
              "#fdca26"
             ],
             [
              1,
              "#f0f921"
             ]
            ],
            "type": "heatmap"
           }
          ],
          "heatmapgl": [
           {
            "colorbar": {
             "outlinewidth": 0,
             "ticks": ""
            },
            "colorscale": [
             [
              0,
              "#0d0887"
             ],
             [
              0.1111111111111111,
              "#46039f"
             ],
             [
              0.2222222222222222,
              "#7201a8"
             ],
             [
              0.3333333333333333,
              "#9c179e"
             ],
             [
              0.4444444444444444,
              "#bd3786"
             ],
             [
              0.5555555555555556,
              "#d8576b"
             ],
             [
              0.6666666666666666,
              "#ed7953"
             ],
             [
              0.7777777777777778,
              "#fb9f3a"
             ],
             [
              0.8888888888888888,
              "#fdca26"
             ],
             [
              1,
              "#f0f921"
             ]
            ],
            "type": "heatmapgl"
           }
          ],
          "histogram": [
           {
            "marker": {
             "pattern": {
              "fillmode": "overlay",
              "size": 10,
              "solidity": 0.2
             }
            },
            "type": "histogram"
           }
          ],
          "histogram2d": [
           {
            "colorbar": {
             "outlinewidth": 0,
             "ticks": ""
            },
            "colorscale": [
             [
              0,
              "#0d0887"
             ],
             [
              0.1111111111111111,
              "#46039f"
             ],
             [
              0.2222222222222222,
              "#7201a8"
             ],
             [
              0.3333333333333333,
              "#9c179e"
             ],
             [
              0.4444444444444444,
              "#bd3786"
             ],
             [
              0.5555555555555556,
              "#d8576b"
             ],
             [
              0.6666666666666666,
              "#ed7953"
             ],
             [
              0.7777777777777778,
              "#fb9f3a"
             ],
             [
              0.8888888888888888,
              "#fdca26"
             ],
             [
              1,
              "#f0f921"
             ]
            ],
            "type": "histogram2d"
           }
          ],
          "histogram2dcontour": [
           {
            "colorbar": {
             "outlinewidth": 0,
             "ticks": ""
            },
            "colorscale": [
             [
              0,
              "#0d0887"
             ],
             [
              0.1111111111111111,
              "#46039f"
             ],
             [
              0.2222222222222222,
              "#7201a8"
             ],
             [
              0.3333333333333333,
              "#9c179e"
             ],
             [
              0.4444444444444444,
              "#bd3786"
             ],
             [
              0.5555555555555556,
              "#d8576b"
             ],
             [
              0.6666666666666666,
              "#ed7953"
             ],
             [
              0.7777777777777778,
              "#fb9f3a"
             ],
             [
              0.8888888888888888,
              "#fdca26"
             ],
             [
              1,
              "#f0f921"
             ]
            ],
            "type": "histogram2dcontour"
           }
          ],
          "mesh3d": [
           {
            "colorbar": {
             "outlinewidth": 0,
             "ticks": ""
            },
            "type": "mesh3d"
           }
          ],
          "parcoords": [
           {
            "line": {
             "colorbar": {
              "outlinewidth": 0,
              "ticks": ""
             }
            },
            "type": "parcoords"
           }
          ],
          "pie": [
           {
            "automargin": true,
            "type": "pie"
           }
          ],
          "scatter": [
           {
            "fillpattern": {
             "fillmode": "overlay",
             "size": 10,
             "solidity": 0.2
            },
            "type": "scatter"
           }
          ],
          "scatter3d": [
           {
            "line": {
             "colorbar": {
              "outlinewidth": 0,
              "ticks": ""
             }
            },
            "marker": {
             "colorbar": {
              "outlinewidth": 0,
              "ticks": ""
             }
            },
            "type": "scatter3d"
           }
          ],
          "scattercarpet": [
           {
            "marker": {
             "colorbar": {
              "outlinewidth": 0,
              "ticks": ""
             }
            },
            "type": "scattercarpet"
           }
          ],
          "scattergeo": [
           {
            "marker": {
             "colorbar": {
              "outlinewidth": 0,
              "ticks": ""
             }
            },
            "type": "scattergeo"
           }
          ],
          "scattergl": [
           {
            "marker": {
             "colorbar": {
              "outlinewidth": 0,
              "ticks": ""
             }
            },
            "type": "scattergl"
           }
          ],
          "scattermapbox": [
           {
            "marker": {
             "colorbar": {
              "outlinewidth": 0,
              "ticks": ""
             }
            },
            "type": "scattermapbox"
           }
          ],
          "scatterpolar": [
           {
            "marker": {
             "colorbar": {
              "outlinewidth": 0,
              "ticks": ""
             }
            },
            "type": "scatterpolar"
           }
          ],
          "scatterpolargl": [
           {
            "marker": {
             "colorbar": {
              "outlinewidth": 0,
              "ticks": ""
             }
            },
            "type": "scatterpolargl"
           }
          ],
          "scatterternary": [
           {
            "marker": {
             "colorbar": {
              "outlinewidth": 0,
              "ticks": ""
             }
            },
            "type": "scatterternary"
           }
          ],
          "surface": [
           {
            "colorbar": {
             "outlinewidth": 0,
             "ticks": ""
            },
            "colorscale": [
             [
              0,
              "#0d0887"
             ],
             [
              0.1111111111111111,
              "#46039f"
             ],
             [
              0.2222222222222222,
              "#7201a8"
             ],
             [
              0.3333333333333333,
              "#9c179e"
             ],
             [
              0.4444444444444444,
              "#bd3786"
             ],
             [
              0.5555555555555556,
              "#d8576b"
             ],
             [
              0.6666666666666666,
              "#ed7953"
             ],
             [
              0.7777777777777778,
              "#fb9f3a"
             ],
             [
              0.8888888888888888,
              "#fdca26"
             ],
             [
              1,
              "#f0f921"
             ]
            ],
            "type": "surface"
           }
          ],
          "table": [
           {
            "cells": {
             "fill": {
              "color": "#EBF0F8"
             },
             "line": {
              "color": "white"
             }
            },
            "header": {
             "fill": {
              "color": "#C8D4E3"
             },
             "line": {
              "color": "white"
             }
            },
            "type": "table"
           }
          ]
         },
         "layout": {
          "annotationdefaults": {
           "arrowcolor": "#2a3f5f",
           "arrowhead": 0,
           "arrowwidth": 1
          },
          "autotypenumbers": "strict",
          "coloraxis": {
           "colorbar": {
            "outlinewidth": 0,
            "ticks": ""
           }
          },
          "colorscale": {
           "diverging": [
            [
             0,
             "#8e0152"
            ],
            [
             0.1,
             "#c51b7d"
            ],
            [
             0.2,
             "#de77ae"
            ],
            [
             0.3,
             "#f1b6da"
            ],
            [
             0.4,
             "#fde0ef"
            ],
            [
             0.5,
             "#f7f7f7"
            ],
            [
             0.6,
             "#e6f5d0"
            ],
            [
             0.7,
             "#b8e186"
            ],
            [
             0.8,
             "#7fbc41"
            ],
            [
             0.9,
             "#4d9221"
            ],
            [
             1,
             "#276419"
            ]
           ],
           "sequential": [
            [
             0,
             "#0d0887"
            ],
            [
             0.1111111111111111,
             "#46039f"
            ],
            [
             0.2222222222222222,
             "#7201a8"
            ],
            [
             0.3333333333333333,
             "#9c179e"
            ],
            [
             0.4444444444444444,
             "#bd3786"
            ],
            [
             0.5555555555555556,
             "#d8576b"
            ],
            [
             0.6666666666666666,
             "#ed7953"
            ],
            [
             0.7777777777777778,
             "#fb9f3a"
            ],
            [
             0.8888888888888888,
             "#fdca26"
            ],
            [
             1,
             "#f0f921"
            ]
           ],
           "sequentialminus": [
            [
             0,
             "#0d0887"
            ],
            [
             0.1111111111111111,
             "#46039f"
            ],
            [
             0.2222222222222222,
             "#7201a8"
            ],
            [
             0.3333333333333333,
             "#9c179e"
            ],
            [
             0.4444444444444444,
             "#bd3786"
            ],
            [
             0.5555555555555556,
             "#d8576b"
            ],
            [
             0.6666666666666666,
             "#ed7953"
            ],
            [
             0.7777777777777778,
             "#fb9f3a"
            ],
            [
             0.8888888888888888,
             "#fdca26"
            ],
            [
             1,
             "#f0f921"
            ]
           ]
          },
          "colorway": [
           "#636efa",
           "#EF553B",
           "#00cc96",
           "#ab63fa",
           "#FFA15A",
           "#19d3f3",
           "#FF6692",
           "#B6E880",
           "#FF97FF",
           "#FECB52"
          ],
          "font": {
           "color": "#2a3f5f"
          },
          "geo": {
           "bgcolor": "white",
           "lakecolor": "white",
           "landcolor": "#E5ECF6",
           "showlakes": true,
           "showland": true,
           "subunitcolor": "white"
          },
          "hoverlabel": {
           "align": "left"
          },
          "hovermode": "closest",
          "mapbox": {
           "style": "light"
          },
          "paper_bgcolor": "white",
          "plot_bgcolor": "#E5ECF6",
          "polar": {
           "angularaxis": {
            "gridcolor": "white",
            "linecolor": "white",
            "ticks": ""
           },
           "bgcolor": "#E5ECF6",
           "radialaxis": {
            "gridcolor": "white",
            "linecolor": "white",
            "ticks": ""
           }
          },
          "scene": {
           "xaxis": {
            "backgroundcolor": "#E5ECF6",
            "gridcolor": "white",
            "gridwidth": 2,
            "linecolor": "white",
            "showbackground": true,
            "ticks": "",
            "zerolinecolor": "white"
           },
           "yaxis": {
            "backgroundcolor": "#E5ECF6",
            "gridcolor": "white",
            "gridwidth": 2,
            "linecolor": "white",
            "showbackground": true,
            "ticks": "",
            "zerolinecolor": "white"
           },
           "zaxis": {
            "backgroundcolor": "#E5ECF6",
            "gridcolor": "white",
            "gridwidth": 2,
            "linecolor": "white",
            "showbackground": true,
            "ticks": "",
            "zerolinecolor": "white"
           }
          },
          "shapedefaults": {
           "line": {
            "color": "#2a3f5f"
           }
          },
          "ternary": {
           "aaxis": {
            "gridcolor": "white",
            "linecolor": "white",
            "ticks": ""
           },
           "baxis": {
            "gridcolor": "white",
            "linecolor": "white",
            "ticks": ""
           },
           "bgcolor": "#E5ECF6",
           "caxis": {
            "gridcolor": "white",
            "linecolor": "white",
            "ticks": ""
           }
          },
          "title": {
           "x": 0.05
          },
          "xaxis": {
           "automargin": true,
           "gridcolor": "white",
           "linecolor": "white",
           "ticks": "",
           "title": {
            "standoff": 15
           },
           "zerolinecolor": "white",
           "zerolinewidth": 2
          },
          "yaxis": {
           "automargin": true,
           "gridcolor": "white",
           "linecolor": "white",
           "ticks": "",
           "title": {
            "standoff": 15
           },
           "zerolinecolor": "white",
           "zerolinewidth": 2
          }
         }
        }
       }
      }
     },
     "metadata": {},
     "output_type": "display_data"
    },
    {
     "name": "stdout",
     "output_type": "stream",
     "text": [
      "Not null weighted fetures:  57\n",
      "All features: 296\n",
      "Not null weighted part: 0.19\n"
     ]
    }
   ],
   "source": [
    "t_array=np.arange(start=0,stop=float(max(abs(coefs['coef']))),step=0.002)\n",
    "counts=[]\n",
    "for t in t_array:\n",
    "    counter=0\n",
    "    for val in coefs.values: \n",
    "        if abs(val)>t:counter+=1\n",
    "    counts.append(counter)\n",
    "\n",
    "fig = go.Figure(data=go.Scatter(x=t_array, y=counts))\n",
    "fig.show()\n",
    "\n",
    "print('Not null weighted fetures: ', len(coefs[coefs['coef']!=0]))\n",
    "print('All features:', len(coefs))\n",
    "print('Not null weighted part:', np.round(len(coefs[coefs['coef']!=0])/len(coefs),2))"
   ]
  },
  {
   "cell_type": "markdown",
   "metadata": {},
   "source": [
    "L1 занулил более 80% признаков. Для оставшися не наблюдается какого-то конкретного порога, по которому можно откинуть некогорые признаки."
   ]
  },
  {
   "cell_type": "markdown",
   "metadata": {},
   "source": [
    "Отбор признаков по весам используя порог t"
   ]
  },
  {
   "cell_type": "code",
   "execution_count": 85,
   "metadata": {},
   "outputs": [
    {
     "name": "stdout",
     "output_type": "stream",
     "text": [
      "Selected features:\n",
      "['GrLivArea', 'OverallQual', 'YearBuilt', 'TotalBsmtSF', 'KitchenQual_Ex', 'ExterQual_Ex', 'BsmtQual_Ex', 'BsmtFinSF1', 'Neighborhood_NoRidge', 'RoofMatl_WdShngl', 'BldgType_1Fam', 'GarageArea', 'BsmtExposure_Gd', 'OverallCond', 'Neighborhood_NridgHt', 'Neighborhood_Crawfor', 'LotArea', 'Neighborhood_StoneBr', 'PoolQC_Ex', 'SaleType_New', 'YearRemodAdd', 'Functional_Typ', 'Fireplaces', 'Condition1_Norm', 'GarageCars', 'Exterior1st_BrkFace', 'Neighborhood_Somerst', 'HeatingQC_Ex', 'ScreenPorch', 'MasVnrArea', 'LandContour_HLS', 'BsmtFullBath', 'BsmtFinType1_GLQ', 'GarageQual_Ex', 'Neighborhood_BrkSide', 'WoodDeckSF', 'LotConfig_CulDSac', 'SaleType_CWD', 'SaleType_Con', 'Foundation_PConc', 'GarageFinish_Fin', 'BsmtFinType2_ALQ', 'LotShape_IR2', 'KitchenQual_TA', 'GarageFinish_Unf', 'Condition1_Artery', 'BsmtQual_TA', 'Functional_Sev', 'LowQualFinSF', 'MSZoning_C_(all)', 'MSZoning_RM', 'SaleCondition_Abnorml', 'KitchenAbvGr', 'BsmtExposure_No', 'ExterQual_TA', 'Condition2_PosN', 'RoofMatl_ClyTile'] \n",
      " Count: 57\n"
     ]
    }
   ],
   "source": [
    "#в данном случае 0\n",
    "t=0.0                                                                                                          \n",
    "\n",
    "final_num_columns=[]\n",
    "for i,j in zip(coefs.index,coefs.values): \n",
    "    if abs(j)>t:final_num_columns.append(i)\n",
    "\n",
    "print('Selected features:')\n",
    "print(final_num_columns,'\\n' ,'Count:',len(final_num_columns))"
   ]
  },
  {
   "cell_type": "markdown",
   "metadata": {},
   "source": [
    "<h3>Отобранные признаки и интерпритация</h3>\n",
    "\n",
    "Выше указаны отобраные признаки, можено заметить, что для котегориальных признаков определены конкретные значения, которые дают сильный вклад в предсказание. Например, RoofMatl (материал крыши) имеющий значение ClyTile, уменьшает стоимость дома, следовательно возможно перед продажей дома стоит оценить выгоду\n",
    "замены крыши."
   ]
  },
  {
   "cell_type": "markdown",
   "metadata": {},
   "source": [
    "<h3>LinearRegression on Lasso passed features</h3>"
   ]
  },
  {
   "cell_type": "code",
   "execution_count": 86,
   "metadata": {},
   "outputs": [
    {
     "name": "stdout",
     "output_type": "stream",
     "text": [
      "LinearRegression\n",
      "Best params: {}\n",
      "Train MAE: 13835.594389591708\n",
      "Train R2: 0.9347476548296718\n",
      "Test MAE: 17617.533069887206\n",
      "Test R2: 0.841123700314379\n"
     ]
    }
   ],
   "source": [
    "print('LinearRegression')\n",
    "params={}\n",
    "regressor,y_pred, test_mae, test_r2=fit_test(estimaror=LinearRegression(),\n",
    "         param_grid=params,\n",
    "         x_train=x_train_formated[final_num_columns],\n",
    "         y_train=y_train_formated,\n",
    "         x_test=x_test_formated[final_num_columns],\n",
    "         y_test=y_test,\n",
    "         y_scaler=y_scaler\n",
    "       )\n",
    "\n",
    "metrics['LinearRegression']={'mae':test_mae,'r2':test_r2}"
   ]
  },
  {
   "cell_type": "markdown",
   "metadata": {},
   "source": [
    "НА отобранных признакал обычная линейная регрессия стала работать хорошо"
   ]
  },
  {
   "cell_type": "markdown",
   "metadata": {},
   "source": [
    "<h3>Ridge on Lasso passed features</h3>"
   ]
  },
  {
   "cell_type": "code",
   "execution_count": 87,
   "metadata": {},
   "outputs": [
    {
     "name": "stdout",
     "output_type": "stream",
     "text": [
      "Ridge\n",
      "Best params: {'alpha': 300.0}\n",
      "Train MAE: 14852.893941172484\n",
      "Train R2: 0.9178614834648147\n",
      "Test MAE: 17613.664915798014\n",
      "Test R2: 0.8631557125217801\n"
     ]
    }
   ],
   "source": [
    "print('Ridge')\n",
    "params={'alpha':np.linspace(100,1000, 10)}\n",
    "regressor,y_pred, test_mae, test_r2=fit_test(estimaror=Ridge(),\n",
    "         param_grid=params,\n",
    "         x_train=x_train_formated[final_num_columns],\n",
    "         y_train=y_train_formated,\n",
    "         x_test=x_test_formated[final_num_columns],\n",
    "         y_test=y_test,\n",
    "         y_scaler=y_scaler\n",
    "       )\n",
    "\n",
    "metrics['Ridge']={'mae':test_mae,'r2':test_r2}"
   ]
  },
  {
   "cell_type": "markdown",
   "metadata": {},
   "source": [
    "Не наблюдаем прироста в прогнозируещей способности"
   ]
  },
  {
   "cell_type": "markdown",
   "metadata": {},
   "source": [
    "<h3>DecisionTreeRegressor on Lasso passed features</h3>"
   ]
  },
  {
   "cell_type": "code",
   "execution_count": 88,
   "metadata": {},
   "outputs": [
    {
     "name": "stdout",
     "output_type": "stream",
     "text": [
      "DecisionTreeRegressor\n",
      "Best params: {'max_depth': 10}\n",
      "Train MAE: 5033.628737039901\n",
      "Train R2: 0.9881346412798107\n",
      "Test MAE: 24937.623446453235\n",
      "Test R2: 0.7432927091068671\n"
     ]
    }
   ],
   "source": [
    "print('DecisionTreeRegressor')\n",
    "params={'max_depth':[10]}\n",
    "regressor,y_pred, test_mae, test_r2=fit_test(estimaror=DecisionTreeRegressor(),\n",
    "         param_grid=params,\n",
    "         x_train=x_train_formated[final_num_columns],\n",
    "         y_train=y_train_formated,\n",
    "         x_test=x_test_formated[final_num_columns],\n",
    "         y_test=y_test,\n",
    "         y_scaler=y_scaler\n",
    "       )\n",
    "\n",
    "metrics['DecisionTreeRegressor']={'mae':test_mae,'r2':test_r2}"
   ]
  },
  {
   "cell_type": "markdown",
   "metadata": {},
   "source": [
    "Ничего пригодного, однако от простого дерева большего ждать не стоит"
   ]
  },
  {
   "cell_type": "markdown",
   "metadata": {},
   "source": [
    "<h3>RandomForestRegressor on Lasso passed features</h3>"
   ]
  },
  {
   "cell_type": "code",
   "execution_count": 90,
   "metadata": {},
   "outputs": [
    {
     "name": "stdout",
     "output_type": "stream",
     "text": [
      "RandomForestRegressor\n",
      "Best params: {'bootstrap': True, 'max_depth': 100, 'max_features': 'sqrt', 'n_estimators': 1000, 'oob_score': True}\n",
      "Train MAE: 6348.2487954990465\n",
      "Train R2: 0.9790664611415623\n",
      "Test MAE: 15455.238603065873\n",
      "Test R2: 0.8895697762617558\n"
     ]
    }
   ],
   "source": [
    "print('RandomForestRegressor')\n",
    "params={'max_depth':[100],#np.arange(10,100,10),\n",
    "        'n_estimators':[1000],#np.arange(10,100,10),\n",
    "        'bootstrap':[True],\n",
    "        'max_features':['sqrt'],\n",
    "        'oob_score':[True]\n",
    "        }\n",
    "regressor,y_pred, test_mae, test_r2=fit_test(estimaror=RandomForestRegressor(),\n",
    "         param_grid=params,\n",
    "         x_train=x_train_formated[final_num_columns],\n",
    "         y_train=y_train_formated,\n",
    "         x_test=x_test_formated[final_num_columns],\n",
    "         y_test=y_test,\n",
    "         y_scaler=y_scaler\n",
    "       )\n",
    "\n",
    "metrics['RandomForestRegressor']={'mae':test_mae,'r2':test_r2}"
   ]
  },
  {
   "cell_type": "markdown",
   "metadata": {},
   "source": [
    "Наблюдается ощутимый прирост в метриках"
   ]
  },
  {
   "cell_type": "markdown",
   "metadata": {},
   "source": [
    "<h3>XGBRegressor on Lasso passed features</h3>"
   ]
  },
  {
   "cell_type": "code",
   "execution_count": 89,
   "metadata": {},
   "outputs": [
    {
     "name": "stdout",
     "output_type": "stream",
     "text": [
      "XGBRegressor\n",
      "Best params: {'colsample_bylevel': 1, 'colsample_bytree': 1, 'eval_metric': 'rmse', 'learning_rate': 0.1, 'max_depth': 4, 'n_estimators': 200, 'objective': 'reg:squarederror', 'random_state': 10, 'reg_lambda': 0.11, 'subsample': 0.9}\n",
      "Train MAE: 5056.539138943249\n",
      "Train R2: 0.9930853188067109\n",
      "Test MAE: 14158.165150542238\n",
      "Test R2: 0.9177999919345298\n"
     ]
    }
   ],
   "source": [
    "print('XGBRegressor')\n",
    "params={'max_depth':[4],#np.arange(1,10),\n",
    "        'n_estimators':[200],#np.arange(1,100,10),\n",
    "        \"objective\": [\"reg:squarederror\"],\n",
    "        \"learning_rate\": [0.1],#np.arange(0.1,0.2,0.1),\n",
    "        \"subsample\": [0.9],#np.arange(0.9,1.1,0.1),\n",
    "        \"colsample_bytree\":[1],#np.arange(0.5,0.6,0.1),\n",
    "        \"colsample_bylevel\":[1],#np.arange(0.8,0.9,0.1),\n",
    "        \"reg_lambda\":[0.11],#np.arange(0.05,0.15,0.01),\n",
    "        \"eval_metric\": [\"rmse\"],\n",
    "        \"random_state\":[10],\n",
    "}\n",
    "\n",
    "regressor,y_pred, test_mae, test_r2=fit_test(estimaror=XGBRegressor(),\n",
    "         param_grid=params,\n",
    "         x_train=x_train_formated[final_num_columns],\n",
    "         y_train=y_train_formated,\n",
    "         x_test=x_test_formated[final_num_columns],\n",
    "         y_test=y_test,\n",
    "         y_scaler=y_scaler\n",
    "       )\n",
    "\n",
    "metrics['XGBRegressor']={'mae':test_mae,'r2':test_r2}"
   ]
  },
  {
   "cell_type": "markdown",
   "metadata": {},
   "source": [
    "Бустинговый ансамбль превзащёл RandomForest и все остальные методы по целевым метрикам. Raw LinearRegression так как имеет некорректные метрики.\n",
    "Все остальные модели обучены на признаках отобранных при помощи Lasso.\n",
    "Так совпало что модели с лучшим MAE имеют лучший R2."
   ]
  },
  {
   "cell_type": "code",
   "execution_count": 107,
   "metadata": {},
   "outputs": [
    {
     "data": {
      "text/html": [
       "<div>\n",
       "<style scoped>\n",
       "    .dataframe tbody tr th:only-of-type {\n",
       "        vertical-align: middle;\n",
       "    }\n",
       "\n",
       "    .dataframe tbody tr th {\n",
       "        vertical-align: top;\n",
       "    }\n",
       "\n",
       "    .dataframe thead th {\n",
       "        text-align: right;\n",
       "    }\n",
       "</style>\n",
       "<table border=\"1\" class=\"dataframe\">\n",
       "  <thead>\n",
       "    <tr style=\"text-align: right;\">\n",
       "      <th></th>\n",
       "      <th>mae</th>\n",
       "      <th>r2</th>\n",
       "    </tr>\n",
       "  </thead>\n",
       "  <tbody>\n",
       "    <tr>\n",
       "      <th>XGBRegressor</th>\n",
       "      <td>14158.165151</td>\n",
       "      <td>0.917800</td>\n",
       "    </tr>\n",
       "    <tr>\n",
       "      <th>RandomForestRegressor</th>\n",
       "      <td>15455.238603</td>\n",
       "      <td>0.889570</td>\n",
       "    </tr>\n",
       "    <tr>\n",
       "      <th>Lasso</th>\n",
       "      <td>16275.862782</td>\n",
       "      <td>0.865021</td>\n",
       "    </tr>\n",
       "    <tr>\n",
       "      <th>Ridge</th>\n",
       "      <td>17613.664916</td>\n",
       "      <td>0.863156</td>\n",
       "    </tr>\n",
       "    <tr>\n",
       "      <th>LinearRegression</th>\n",
       "      <td>17617.533070</td>\n",
       "      <td>0.841124</td>\n",
       "    </tr>\n",
       "    <tr>\n",
       "      <th>DecisionTreeRegressor</th>\n",
       "      <td>24937.623446</td>\n",
       "      <td>0.743293</td>\n",
       "    </tr>\n",
       "  </tbody>\n",
       "</table>\n",
       "</div>"
      ],
      "text/plain": [
       "                                mae        r2\n",
       "XGBRegressor           14158.165151  0.917800\n",
       "RandomForestRegressor  15455.238603  0.889570\n",
       "Lasso                  16275.862782  0.865021\n",
       "Ridge                  17613.664916  0.863156\n",
       "LinearRegression       17617.533070  0.841124\n",
       "DecisionTreeRegressor  24937.623446  0.743293"
      ]
     },
     "execution_count": 107,
     "metadata": {},
     "output_type": "execute_result"
    }
   ],
   "source": [
    "metrics_df=pd.DataFrame(metrics).drop(columns=['Raw LinearRegression']).T.sort_values(by='mae')\n",
    "metrics_df"
   ]
  },
  {
   "cell_type": "markdown",
   "metadata": {},
   "source": [
    "Визуализируем сравнение"
   ]
  },
  {
   "cell_type": "code",
   "execution_count": 113,
   "metadata": {},
   "outputs": [
    {
     "data": {
      "application/vnd.plotly.v1+json": {
       "config": {
        "linkText": "Export to plot.ly",
        "plotlyServerURL": "https://plot.ly",
        "showLink": false
       },
       "data": [
        {
         "name": "MAE",
         "type": "bar",
         "x": [
          "XGBRegressor",
          "RandomForestRegressor",
          "Lasso",
          "Ridge",
          "LinearRegression",
          "DecisionTreeRegressor"
         ],
         "y": [
          0.5677431604877284,
          0.6197558735399062,
          0.6526629458925425,
          0.7063088811818243,
          0.7064639943624166,
          1
         ]
        },
        {
         "name": "R2",
         "type": "bar",
         "x": [
          "XGBRegressor",
          "RandomForestRegressor",
          "Lasso",
          "Ridge",
          "LinearRegression",
          "DecisionTreeRegressor"
         ],
         "y": [
          0.9177999919345298,
          0.8895697762617558,
          0.8650210896302517,
          0.8631557125217801,
          0.841123700314379,
          0.7432927091068671
         ]
        }
       ],
       "layout": {
        "template": {
         "data": {
          "bar": [
           {
            "error_x": {
             "color": "#2a3f5f"
            },
            "error_y": {
             "color": "#2a3f5f"
            },
            "marker": {
             "line": {
              "color": "#E5ECF6",
              "width": 0.5
             },
             "pattern": {
              "fillmode": "overlay",
              "size": 10,
              "solidity": 0.2
             }
            },
            "type": "bar"
           }
          ],
          "barpolar": [
           {
            "marker": {
             "line": {
              "color": "#E5ECF6",
              "width": 0.5
             },
             "pattern": {
              "fillmode": "overlay",
              "size": 10,
              "solidity": 0.2
             }
            },
            "type": "barpolar"
           }
          ],
          "carpet": [
           {
            "aaxis": {
             "endlinecolor": "#2a3f5f",
             "gridcolor": "white",
             "linecolor": "white",
             "minorgridcolor": "white",
             "startlinecolor": "#2a3f5f"
            },
            "baxis": {
             "endlinecolor": "#2a3f5f",
             "gridcolor": "white",
             "linecolor": "white",
             "minorgridcolor": "white",
             "startlinecolor": "#2a3f5f"
            },
            "type": "carpet"
           }
          ],
          "choropleth": [
           {
            "colorbar": {
             "outlinewidth": 0,
             "ticks": ""
            },
            "type": "choropleth"
           }
          ],
          "contour": [
           {
            "colorbar": {
             "outlinewidth": 0,
             "ticks": ""
            },
            "colorscale": [
             [
              0,
              "#0d0887"
             ],
             [
              0.1111111111111111,
              "#46039f"
             ],
             [
              0.2222222222222222,
              "#7201a8"
             ],
             [
              0.3333333333333333,
              "#9c179e"
             ],
             [
              0.4444444444444444,
              "#bd3786"
             ],
             [
              0.5555555555555556,
              "#d8576b"
             ],
             [
              0.6666666666666666,
              "#ed7953"
             ],
             [
              0.7777777777777778,
              "#fb9f3a"
             ],
             [
              0.8888888888888888,
              "#fdca26"
             ],
             [
              1,
              "#f0f921"
             ]
            ],
            "type": "contour"
           }
          ],
          "contourcarpet": [
           {
            "colorbar": {
             "outlinewidth": 0,
             "ticks": ""
            },
            "type": "contourcarpet"
           }
          ],
          "heatmap": [
           {
            "colorbar": {
             "outlinewidth": 0,
             "ticks": ""
            },
            "colorscale": [
             [
              0,
              "#0d0887"
             ],
             [
              0.1111111111111111,
              "#46039f"
             ],
             [
              0.2222222222222222,
              "#7201a8"
             ],
             [
              0.3333333333333333,
              "#9c179e"
             ],
             [
              0.4444444444444444,
              "#bd3786"
             ],
             [
              0.5555555555555556,
              "#d8576b"
             ],
             [
              0.6666666666666666,
              "#ed7953"
             ],
             [
              0.7777777777777778,
              "#fb9f3a"
             ],
             [
              0.8888888888888888,
              "#fdca26"
             ],
             [
              1,
              "#f0f921"
             ]
            ],
            "type": "heatmap"
           }
          ],
          "heatmapgl": [
           {
            "colorbar": {
             "outlinewidth": 0,
             "ticks": ""
            },
            "colorscale": [
             [
              0,
              "#0d0887"
             ],
             [
              0.1111111111111111,
              "#46039f"
             ],
             [
              0.2222222222222222,
              "#7201a8"
             ],
             [
              0.3333333333333333,
              "#9c179e"
             ],
             [
              0.4444444444444444,
              "#bd3786"
             ],
             [
              0.5555555555555556,
              "#d8576b"
             ],
             [
              0.6666666666666666,
              "#ed7953"
             ],
             [
              0.7777777777777778,
              "#fb9f3a"
             ],
             [
              0.8888888888888888,
              "#fdca26"
             ],
             [
              1,
              "#f0f921"
             ]
            ],
            "type": "heatmapgl"
           }
          ],
          "histogram": [
           {
            "marker": {
             "pattern": {
              "fillmode": "overlay",
              "size": 10,
              "solidity": 0.2
             }
            },
            "type": "histogram"
           }
          ],
          "histogram2d": [
           {
            "colorbar": {
             "outlinewidth": 0,
             "ticks": ""
            },
            "colorscale": [
             [
              0,
              "#0d0887"
             ],
             [
              0.1111111111111111,
              "#46039f"
             ],
             [
              0.2222222222222222,
              "#7201a8"
             ],
             [
              0.3333333333333333,
              "#9c179e"
             ],
             [
              0.4444444444444444,
              "#bd3786"
             ],
             [
              0.5555555555555556,
              "#d8576b"
             ],
             [
              0.6666666666666666,
              "#ed7953"
             ],
             [
              0.7777777777777778,
              "#fb9f3a"
             ],
             [
              0.8888888888888888,
              "#fdca26"
             ],
             [
              1,
              "#f0f921"
             ]
            ],
            "type": "histogram2d"
           }
          ],
          "histogram2dcontour": [
           {
            "colorbar": {
             "outlinewidth": 0,
             "ticks": ""
            },
            "colorscale": [
             [
              0,
              "#0d0887"
             ],
             [
              0.1111111111111111,
              "#46039f"
             ],
             [
              0.2222222222222222,
              "#7201a8"
             ],
             [
              0.3333333333333333,
              "#9c179e"
             ],
             [
              0.4444444444444444,
              "#bd3786"
             ],
             [
              0.5555555555555556,
              "#d8576b"
             ],
             [
              0.6666666666666666,
              "#ed7953"
             ],
             [
              0.7777777777777778,
              "#fb9f3a"
             ],
             [
              0.8888888888888888,
              "#fdca26"
             ],
             [
              1,
              "#f0f921"
             ]
            ],
            "type": "histogram2dcontour"
           }
          ],
          "mesh3d": [
           {
            "colorbar": {
             "outlinewidth": 0,
             "ticks": ""
            },
            "type": "mesh3d"
           }
          ],
          "parcoords": [
           {
            "line": {
             "colorbar": {
              "outlinewidth": 0,
              "ticks": ""
             }
            },
            "type": "parcoords"
           }
          ],
          "pie": [
           {
            "automargin": true,
            "type": "pie"
           }
          ],
          "scatter": [
           {
            "fillpattern": {
             "fillmode": "overlay",
             "size": 10,
             "solidity": 0.2
            },
            "type": "scatter"
           }
          ],
          "scatter3d": [
           {
            "line": {
             "colorbar": {
              "outlinewidth": 0,
              "ticks": ""
             }
            },
            "marker": {
             "colorbar": {
              "outlinewidth": 0,
              "ticks": ""
             }
            },
            "type": "scatter3d"
           }
          ],
          "scattercarpet": [
           {
            "marker": {
             "colorbar": {
              "outlinewidth": 0,
              "ticks": ""
             }
            },
            "type": "scattercarpet"
           }
          ],
          "scattergeo": [
           {
            "marker": {
             "colorbar": {
              "outlinewidth": 0,
              "ticks": ""
             }
            },
            "type": "scattergeo"
           }
          ],
          "scattergl": [
           {
            "marker": {
             "colorbar": {
              "outlinewidth": 0,
              "ticks": ""
             }
            },
            "type": "scattergl"
           }
          ],
          "scattermapbox": [
           {
            "marker": {
             "colorbar": {
              "outlinewidth": 0,
              "ticks": ""
             }
            },
            "type": "scattermapbox"
           }
          ],
          "scatterpolar": [
           {
            "marker": {
             "colorbar": {
              "outlinewidth": 0,
              "ticks": ""
             }
            },
            "type": "scatterpolar"
           }
          ],
          "scatterpolargl": [
           {
            "marker": {
             "colorbar": {
              "outlinewidth": 0,
              "ticks": ""
             }
            },
            "type": "scatterpolargl"
           }
          ],
          "scatterternary": [
           {
            "marker": {
             "colorbar": {
              "outlinewidth": 0,
              "ticks": ""
             }
            },
            "type": "scatterternary"
           }
          ],
          "surface": [
           {
            "colorbar": {
             "outlinewidth": 0,
             "ticks": ""
            },
            "colorscale": [
             [
              0,
              "#0d0887"
             ],
             [
              0.1111111111111111,
              "#46039f"
             ],
             [
              0.2222222222222222,
              "#7201a8"
             ],
             [
              0.3333333333333333,
              "#9c179e"
             ],
             [
              0.4444444444444444,
              "#bd3786"
             ],
             [
              0.5555555555555556,
              "#d8576b"
             ],
             [
              0.6666666666666666,
              "#ed7953"
             ],
             [
              0.7777777777777778,
              "#fb9f3a"
             ],
             [
              0.8888888888888888,
              "#fdca26"
             ],
             [
              1,
              "#f0f921"
             ]
            ],
            "type": "surface"
           }
          ],
          "table": [
           {
            "cells": {
             "fill": {
              "color": "#EBF0F8"
             },
             "line": {
              "color": "white"
             }
            },
            "header": {
             "fill": {
              "color": "#C8D4E3"
             },
             "line": {
              "color": "white"
             }
            },
            "type": "table"
           }
          ]
         },
         "layout": {
          "annotationdefaults": {
           "arrowcolor": "#2a3f5f",
           "arrowhead": 0,
           "arrowwidth": 1
          },
          "autotypenumbers": "strict",
          "coloraxis": {
           "colorbar": {
            "outlinewidth": 0,
            "ticks": ""
           }
          },
          "colorscale": {
           "diverging": [
            [
             0,
             "#8e0152"
            ],
            [
             0.1,
             "#c51b7d"
            ],
            [
             0.2,
             "#de77ae"
            ],
            [
             0.3,
             "#f1b6da"
            ],
            [
             0.4,
             "#fde0ef"
            ],
            [
             0.5,
             "#f7f7f7"
            ],
            [
             0.6,
             "#e6f5d0"
            ],
            [
             0.7,
             "#b8e186"
            ],
            [
             0.8,
             "#7fbc41"
            ],
            [
             0.9,
             "#4d9221"
            ],
            [
             1,
             "#276419"
            ]
           ],
           "sequential": [
            [
             0,
             "#0d0887"
            ],
            [
             0.1111111111111111,
             "#46039f"
            ],
            [
             0.2222222222222222,
             "#7201a8"
            ],
            [
             0.3333333333333333,
             "#9c179e"
            ],
            [
             0.4444444444444444,
             "#bd3786"
            ],
            [
             0.5555555555555556,
             "#d8576b"
            ],
            [
             0.6666666666666666,
             "#ed7953"
            ],
            [
             0.7777777777777778,
             "#fb9f3a"
            ],
            [
             0.8888888888888888,
             "#fdca26"
            ],
            [
             1,
             "#f0f921"
            ]
           ],
           "sequentialminus": [
            [
             0,
             "#0d0887"
            ],
            [
             0.1111111111111111,
             "#46039f"
            ],
            [
             0.2222222222222222,
             "#7201a8"
            ],
            [
             0.3333333333333333,
             "#9c179e"
            ],
            [
             0.4444444444444444,
             "#bd3786"
            ],
            [
             0.5555555555555556,
             "#d8576b"
            ],
            [
             0.6666666666666666,
             "#ed7953"
            ],
            [
             0.7777777777777778,
             "#fb9f3a"
            ],
            [
             0.8888888888888888,
             "#fdca26"
            ],
            [
             1,
             "#f0f921"
            ]
           ]
          },
          "colorway": [
           "#636efa",
           "#EF553B",
           "#00cc96",
           "#ab63fa",
           "#FFA15A",
           "#19d3f3",
           "#FF6692",
           "#B6E880",
           "#FF97FF",
           "#FECB52"
          ],
          "font": {
           "color": "#2a3f5f"
          },
          "geo": {
           "bgcolor": "white",
           "lakecolor": "white",
           "landcolor": "#E5ECF6",
           "showlakes": true,
           "showland": true,
           "subunitcolor": "white"
          },
          "hoverlabel": {
           "align": "left"
          },
          "hovermode": "closest",
          "mapbox": {
           "style": "light"
          },
          "paper_bgcolor": "white",
          "plot_bgcolor": "#E5ECF6",
          "polar": {
           "angularaxis": {
            "gridcolor": "white",
            "linecolor": "white",
            "ticks": ""
           },
           "bgcolor": "#E5ECF6",
           "radialaxis": {
            "gridcolor": "white",
            "linecolor": "white",
            "ticks": ""
           }
          },
          "scene": {
           "xaxis": {
            "backgroundcolor": "#E5ECF6",
            "gridcolor": "white",
            "gridwidth": 2,
            "linecolor": "white",
            "showbackground": true,
            "ticks": "",
            "zerolinecolor": "white"
           },
           "yaxis": {
            "backgroundcolor": "#E5ECF6",
            "gridcolor": "white",
            "gridwidth": 2,
            "linecolor": "white",
            "showbackground": true,
            "ticks": "",
            "zerolinecolor": "white"
           },
           "zaxis": {
            "backgroundcolor": "#E5ECF6",
            "gridcolor": "white",
            "gridwidth": 2,
            "linecolor": "white",
            "showbackground": true,
            "ticks": "",
            "zerolinecolor": "white"
           }
          },
          "shapedefaults": {
           "line": {
            "color": "#2a3f5f"
           }
          },
          "ternary": {
           "aaxis": {
            "gridcolor": "white",
            "linecolor": "white",
            "ticks": ""
           },
           "baxis": {
            "gridcolor": "white",
            "linecolor": "white",
            "ticks": ""
           },
           "bgcolor": "#E5ECF6",
           "caxis": {
            "gridcolor": "white",
            "linecolor": "white",
            "ticks": ""
           }
          },
          "title": {
           "x": 0.05
          },
          "xaxis": {
           "automargin": true,
           "gridcolor": "white",
           "linecolor": "white",
           "ticks": "",
           "title": {
            "standoff": 15
           },
           "zerolinecolor": "white",
           "zerolinewidth": 2
          },
          "yaxis": {
           "automargin": true,
           "gridcolor": "white",
           "linecolor": "white",
           "ticks": "",
           "title": {
            "standoff": 15
           },
           "zerolinecolor": "white",
           "zerolinewidth": 2
          }
         }
        },
        "title": {
         "text": "Msdels scores"
        },
        "xaxis": {
         "title": {
          "text": "Model"
         }
        }
       }
      }
     },
     "metadata": {},
     "output_type": "display_data"
    }
   ],
   "source": [
    "trace0 = go.Bar(\n",
    "    x=metrics_df.index,\n",
    "    y=metrics_df['mae']/max(metrics_df['mae']),\n",
    "    name='MAE'\n",
    ")\n",
    "\n",
    "trace1 = go.Bar(\n",
    "    x=metrics_df.index,\n",
    "    y=metrics_df['r2'],\n",
    "    name='R2'\n",
    ")\n",
    "\n",
    "data = [trace0, trace1]\n",
    "layout = {'title': 'Msdels scores', 'xaxis': {'title': 'Model'}}\n",
    "\n",
    "fig = go.Figure(data=data, layout=layout)\n",
    "iplot(fig, show_link=False)"
   ]
  },
  {
   "cell_type": "markdown",
   "metadata": {},
   "source": [
    "У лучшей модели наименьшая MAE и больший R2 - всё как и должно быть."
   ]
  },
  {
   "cell_type": "markdown",
   "metadata": {},
   "source": [
    "<h3>Визуализация прогнозов. Сравнение предсказаний с тестовыми</h3>"
   ]
  },
  {
   "cell_type": "code",
   "execution_count": 27,
   "metadata": {},
   "outputs": [
    {
     "data": {
      "image/png": "[encoded data removed]",
      "text/plain": [
       "<Figure size 640x480 with 1 Axes>"
      ]
     },
     "metadata": {},
     "output_type": "display_data"
    },
    {
     "data": {
      "image/png": "[encoded data removed]",
      "text/plain": [
       "<Figure size 640x480 with 1 Axes>"
      ]
     },
     "metadata": {},
     "output_type": "display_data"
    },
    {
     "data": {
      "image/png": "[encoded data removed]",
      "text/plain": [
       "<Figure size 640x480 with 1 Axes>"
      ]
     },
     "metadata": {},
     "output_type": "display_data"
    }
   ],
   "source": [
    "plt.figure()\n",
    "plt.hist(y_pred,bins=50,density=True)\n",
    "plt.legend(['pred'])\n",
    "\n",
    "plt.figure()\n",
    "plt.hist(y_test,bins=50,density=True,color='orange')\n",
    "plt.legend(['test'])\n",
    "\n",
    "plt.figure()\n",
    "plt.hist(y_pred,bins=50,density=True)\n",
    "plt.hist(y_test,bins=50,density=True)\n",
    "plt.legend(['pred','test']);"
   ]
  },
  {
   "cell_type": "markdown",
   "metadata": {},
   "source": [
    "При помощи построенных гистограмм частот можно убедится в том, что модель хорошо приближает тестовые данные"
   ]
  },
  {
   "cell_type": "markdown",
   "metadata": {},
   "source": [
    "<h3>Несработавшие методики:</h3>\n",
    "\n",
    "- MinMax уступил Zclal-ингу, если судить по целевым метрикам. \n",
    "\n",
    "- Метод главных компонент в данной задаче не дал выигрыша в итоговых метриках. Даже если бы выигрыш был (не существенный < ~ +0.05 R2), \n",
    "  выбор сделал бы выбор в сторону отбора L1 регуляризатором, так как полезна возможность интерпритации признаков.\n",
    "\n",
    "- Применение OriginalEncoder (кодировка признаков от 0 до N равного количеству возможных значений) кажется разумным в данной задаче, так так в основном\n",
    "  все категориальные признаки имеют значения, которые легко можно проранжировать по ценности, однако использование данного подхода не дало преемуществ перед \n",
    "  OneHot, если судить по метрикам. "
   ]
  },
  {
   "cell_type": "markdown",
   "metadata": {},
   "source": [
    "<h2>Creating answer</h2>"
   ]
  },
  {
   "cell_type": "code",
   "execution_count": 29,
   "metadata": {},
   "outputs": [],
   "source": [
    "test_df=pd.read_csv('data/test.csv')"
   ]
  },
  {
   "cell_type": "code",
   "execution_count": 31,
   "metadata": {},
   "outputs": [],
   "source": [
    "train=df.sort_values(by='SalePrice')\n",
    "y_train=train['SalePrice']\n",
    "x_train=train.drop(columns=['SalePrice','Id'])\n",
    "\n",
    "x_test=test_df.drop(columns=['Id'])\n",
    "\n",
    "\n",
    "num_fillna=lambda x:0\n",
    "num_scaler=StandardScaler()\n",
    "obj_formater=OneHotEncoder(handle_unknown='ignore')\n",
    "pca_n_components=0\n",
    "y_scaler=StandardScaler()\n",
    "\n",
    "x_train_formated,num_scaler,obj_formater=preproc_x_train(x_train,num_fillna,num_scaler,obj_formater)\n",
    "x_test_formated=preproc_x_test(x_test,num_fillna,num_scaler,obj_formater)\n",
    "y_train_formated,y_scaler=preprocess_y_train(pd.DataFrame(y_train),y_scaler)"
   ]
  },
  {
   "cell_type": "code",
   "execution_count": 32,
   "metadata": {},
   "outputs": [],
   "source": [
    "params={'max_depth':4,\n",
    "        'n_estimators':1000,\n",
    "        \"objective\": \"reg:squarederror\",\n",
    "        \"learning_rate\": 0.1,\n",
    "        \"subsample\": 0.9,\n",
    "        \"colsample_bytree\":1,\n",
    "        \"colsample_bylevel\":1,\n",
    "        \"reg_lambda\":0.11,\n",
    "        \"eval_metric\": \"rmse\",\n",
    "        \"random_state\":1\n",
    "}\n",
    "\n",
    "regresssor=XGBRegressor(**params)\n",
    "regresssor.fit(x_train_formated,y_train_formated)\n",
    "y_pred_scaled=pd.DataFrame(regresssor.predict(x_test_formated))\n",
    "y_pred=y_scaler.inverse_transform(y_pred_scaled)\n",
    "saleprice=pd.DataFrame(y_pred,columns=['SalePrice'])\n",
    "saleprice.index=range(1461,2920)\n",
    "saleprice.to_csv('answer.csv')"
   ]
  }
 ],
 "metadata": {
  "kernelspec": {
   "display_name": "Python 3",
   "language": "python",
   "name": "python3"
  },
  "language_info": {
   "codemirror_mode": {
    "name": "ipython",
    "version": 3
   },
   "file_extension": ".py",
   "mimetype": "text/x-python",
   "name": "python",
   "nbconvert_exporter": "python",
   "pygments_lexer": "ipython3",
   "version": "3.11.5"
  },
  "orig_nbformat": 4
 },
 "nbformat": 4,
 "nbformat_minor": 2
}
