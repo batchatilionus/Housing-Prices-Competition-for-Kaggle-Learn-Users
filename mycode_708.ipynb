{
 "cells": [
  {
   "cell_type": "code",
   "execution_count": 73,
   "metadata": {},
   "outputs": [],
   "source": [
    "import pandas as pd\n",
    "import numpy as np\n",
    "import seaborn as sns\n",
    "import matplotlib.pyplot as plt\n",
    "\n",
    "from sklearn.model_selection import train_test_split, GridSearchCV\n",
    "from sklearn.linear_model import LinearRegression, Lasso, Ridge\n",
    "from sklearn.ensemble import RandomForestRegressor\n",
    "from sklearn.tree import DecisionTreeRegressor\n",
    "from sklearn.preprocessing import StandardScaler,MinMaxScaler, PolynomialFeatures\n",
    "from sklearn.metrics import mean_absolute_error, mean_squared_error\n",
    "from sklearn.linear_model import LassoCV, RidgeCV\n",
    "from xgboost import XGBRegressor\n",
    "\n",
    "from sklearn.preprocessing import LabelEncoder,OneHotEncoder\n",
    "from sklearn.decomposition import PCA\n",
    "\n",
    "from sklearn.metrics import r2_score"
   ]
  },
  {
   "cell_type": "code",
   "execution_count": 74,
   "metadata": {},
   "outputs": [
    {
     "name": "stdout",
     "output_type": "stream",
     "text": [
      "<class 'pandas.core.frame.DataFrame'>\n",
      "RangeIndex: 1460 entries, 0 to 1459\n",
      "Data columns (total 81 columns):\n",
      " #   Column         Non-Null Count  Dtype  \n",
      "---  ------         --------------  -----  \n",
      " 0   Id             1460 non-null   int64  \n",
      " 1   MSSubClass     1460 non-null   int64  \n",
      " 2   MSZoning       1460 non-null   object \n",
      " 3   LotFrontage    1201 non-null   float64\n",
      " 4   LotArea        1460 non-null   int64  \n",
      " 5   Street         1460 non-null   object \n",
      " 6   Alley          91 non-null     object \n",
      " 7   LotShape       1460 non-null   object \n",
      " 8   LandContour    1460 non-null   object \n",
      " 9   Utilities      1460 non-null   object \n",
      " 10  LotConfig      1460 non-null   object \n",
      " 11  LandSlope      1460 non-null   object \n",
      " 12  Neighborhood   1460 non-null   object \n",
      " 13  Condition1     1460 non-null   object \n",
      " 14  Condition2     1460 non-null   object \n",
      " 15  BldgType       1460 non-null   object \n",
      " 16  HouseStyle     1460 non-null   object \n",
      " 17  OverallQual    1460 non-null   int64  \n",
      " 18  OverallCond    1460 non-null   int64  \n",
      " 19  YearBuilt      1460 non-null   int64  \n",
      " 20  YearRemodAdd   1460 non-null   int64  \n",
      " 21  RoofStyle      1460 non-null   object \n",
      " 22  RoofMatl       1460 non-null   object \n",
      " 23  Exterior1st    1460 non-null   object \n",
      " 24  Exterior2nd    1460 non-null   object \n",
      " 25  MasVnrType     588 non-null    object \n",
      " 26  MasVnrArea     1452 non-null   float64\n",
      " 27  ExterQual      1460 non-null   object \n",
      " 28  ExterCond      1460 non-null   object \n",
      " 29  Foundation     1460 non-null   object \n",
      " 30  BsmtQual       1423 non-null   object \n",
      " 31  BsmtCond       1423 non-null   object \n",
      " 32  BsmtExposure   1422 non-null   object \n",
      " 33  BsmtFinType1   1423 non-null   object \n",
      " 34  BsmtFinSF1     1460 non-null   int64  \n",
      " 35  BsmtFinType2   1422 non-null   object \n",
      " 36  BsmtFinSF2     1460 non-null   int64  \n",
      " 37  BsmtUnfSF      1460 non-null   int64  \n",
      " 38  TotalBsmtSF    1460 non-null   int64  \n",
      " 39  Heating        1460 non-null   object \n",
      " 40  HeatingQC      1460 non-null   object \n",
      " 41  CentralAir     1460 non-null   object \n",
      " 42  Electrical     1459 non-null   object \n",
      " 43  1stFlrSF       1460 non-null   int64  \n",
      " 44  2ndFlrSF       1460 non-null   int64  \n",
      " 45  LowQualFinSF   1460 non-null   int64  \n",
      " 46  GrLivArea      1460 non-null   int64  \n",
      " 47  BsmtFullBath   1460 non-null   int64  \n",
      " 48  BsmtHalfBath   1460 non-null   int64  \n",
      " 49  FullBath       1460 non-null   int64  \n",
      " 50  HalfBath       1460 non-null   int64  \n",
      " 51  BedroomAbvGr   1460 non-null   int64  \n",
      " 52  KitchenAbvGr   1460 non-null   int64  \n",
      " 53  KitchenQual    1460 non-null   object \n",
      " 54  TotRmsAbvGrd   1460 non-null   int64  \n",
      " 55  Functional     1460 non-null   object \n",
      " 56  Fireplaces     1460 non-null   int64  \n",
      " 57  FireplaceQu    770 non-null    object \n",
      " 58  GarageType     1379 non-null   object \n",
      " 59  GarageYrBlt    1379 non-null   float64\n",
      " 60  GarageFinish   1379 non-null   object \n",
      " 61  GarageCars     1460 non-null   int64  \n",
      " 62  GarageArea     1460 non-null   int64  \n",
      " 63  GarageQual     1379 non-null   object \n",
      " 64  GarageCond     1379 non-null   object \n",
      " 65  PavedDrive     1460 non-null   object \n",
      " 66  WoodDeckSF     1460 non-null   int64  \n",
      " 67  OpenPorchSF    1460 non-null   int64  \n",
      " 68  EnclosedPorch  1460 non-null   int64  \n",
      " 69  3SsnPorch      1460 non-null   int64  \n",
      " 70  ScreenPorch    1460 non-null   int64  \n",
      " 71  PoolArea       1460 non-null   int64  \n",
      " 72  PoolQC         7 non-null      object \n",
      " 73  Fence          281 non-null    object \n",
      " 74  MiscFeature    54 non-null     object \n",
      " 75  MiscVal        1460 non-null   int64  \n",
      " 76  MoSold         1460 non-null   int64  \n",
      " 77  YrSold         1460 non-null   int64  \n",
      " 78  SaleType       1460 non-null   object \n",
      " 79  SaleCondition  1460 non-null   object \n",
      " 80  SalePrice      1460 non-null   int64  \n",
      "dtypes: float64(3), int64(35), object(43)\n",
      "memory usage: 924.0+ KB\n"
     ]
    }
   ],
   "source": [
    "df=pd.read_csv(\"data/train.csv\")\n",
    "df.info()"
   ]
  },
  {
   "cell_type": "code",
   "execution_count": 75,
   "metadata": {},
   "outputs": [
    {
     "name": "stdout",
     "output_type": "stream",
     "text": [
      "PoolQC       1453\n",
      "MiscFeature       1406\n",
      "Alley       1369\n",
      "Fence       1179\n",
      "MasVnrType       872\n",
      "FireplaceQu       690\n",
      "LotFrontage       259\n",
      "GarageType       81\n",
      "GarageYrBlt       81\n",
      "GarageFinish       81\n",
      "GarageQual       81\n",
      "GarageCond       81\n",
      "BsmtExposure       38\n",
      "BsmtFinType2       38\n",
      "BsmtQual       37\n",
      "BsmtCond       37\n",
      "BsmtFinType1       37\n",
      "MasVnrArea       8\n",
      "Electrical       1\n"
     ]
    },
    {
     "data": {
      "text/plain": [
       "<Axes: >"
      ]
     },
     "execution_count": 75,
     "metadata": {},
     "output_type": "execute_result"
    },
    {
     "data": {
      "image/png": "[encoded data removed]",
      "text/plain": [
       "<Figure size 640x480 with 1 Axes>"
      ]
     },
     "metadata": {},
     "output_type": "display_data"
    }
   ],
   "source": [
    "na_count=[]\n",
    "for column in df.columns:\n",
    "    na_count.append((column,np.count_nonzero(df[column].isnull())))\n",
    "na_count.sort(key=lambda x:x[1],reverse=True)\n",
    "for i in na_count:\n",
    "    if i[1]==0:break\n",
    "    print(i[0],'     ',i[1])\n",
    "\n",
    "sns.heatmap(df.isnull(),yticklabels=False,cbar=False,cmap='viridis')"
   ]
  },
  {
   "cell_type": "code",
   "execution_count": 76,
   "metadata": {},
   "outputs": [],
   "source": [
    "def preproc_x_train(x:pd.DataFrame,num_fillna,num_scaler:StandardScaler,obj_formater:OneHotEncoder,pca_n_components:int):\n",
    "\n",
    "    x_num=x.select_dtypes(['float64','int64'])\n",
    "    x_num=x_num.fillna(num_fillna(x_num))\n",
    "\n",
    "    x_obj=x.select_dtypes(['object'])\n",
    "\n",
    "    x_num_scaled=pd.DataFrame(data=num_scaler.fit_transform(x_num),columns=x_num.columns)\n",
    "\n",
    "\n",
    "    onehotencoder = obj_formater\n",
    "    obj_df_encode = onehotencoder.fit_transform(x_obj)\n",
    "\n",
    "    encode_columns=[]\n",
    "    for column, postfixes in zip(x_obj.columns,onehotencoder.categories_):\n",
    "        for postfix in postfixes:\n",
    "            encode_columns.append(str(column+'_'+str(postfix).replace(' ','_')))\n",
    "\n",
    "    x_obj_formated=pd.DataFrame(obj_df_encode.toarray(),columns=encode_columns)\n",
    "\n",
    "    x_train=pd.concat([x_num_scaled,x_obj_formated], axis=1)\n",
    "    pca_formater=PCA(n_components=pca_n_components)\n",
    "    if pca_n_components>0:\n",
    "        x_train=pd.DataFrame(pca_formater.fit_transform(x_train))\n",
    "    \n",
    "\n",
    "    return x_train,num_scaler, obj_formater, pca_formater,encode_columns\n",
    "\n",
    "\n",
    "\n",
    "def preproc_x_test(x:pd.DataFrame,num_fillna,num_scaler:StandardScaler,obj_formater:OneHotEncoder,pca_formater:PCA,encode_columns):\n",
    "\n",
    "    x_num=x.select_dtypes(['float64','int64'])\n",
    "    x_num=x_num.fillna(num_fillna(x_num))\n",
    "\n",
    "    x_obj=x.select_dtypes(['object'])\n",
    "\n",
    "    x_num_scaled=pd.DataFrame(data=num_scaler.transform(x_num),columns=x_num.columns)\n",
    "\n",
    "\n",
    "    onehotencoder = obj_formater\n",
    "    obj_df_encode = onehotencoder.transform(x_obj)\n",
    "\n",
    "    x_obj_formated=pd.DataFrame(obj_df_encode.toarray(),columns=encode_columns)\n",
    "\n",
    "    x_test=pd.concat([x_num_scaled,x_obj_formated], axis=1)\n",
    "\n",
    "    try:\n",
    "        if pca_formater.n_components_>0:\n",
    "            x_test=pd.DataFrame(pca_formater.transform(x_test))\n",
    "    except:\n",
    "        pass\n",
    "\n",
    "    return x_test\n",
    "\n",
    "\n",
    "def preprocess_y_train(y:pd.DataFrame,y_scaler:StandardScaler):\n",
    "    y_test=pd.DataFrame(y_scaler.fit_transform(y), columns=['SalePrice'])\n",
    "    return y_test,y_scaler\n",
    "    "
   ]
  },
  {
   "cell_type": "code",
   "execution_count": 77,
   "metadata": {},
   "outputs": [
    {
     "name": "stdout",
     "output_type": "stream",
     "text": [
      "\n",
      "PREPROCESSING\n",
      "num_fillna=lambda x:np.mean(x)\n",
      "num_scaler=StandardScaler()\n",
      "obj_formater=OneHotEncoder(handle_unknown='infrequent_if_exist')\n",
      "pca_n_components=0\n",
      "y_scaler=StandardScaler()\n",
      "\n"
     ]
    }
   ],
   "source": [
    "y=df['SalePrice']\n",
    "x=df.drop(columns=['SalePrice','Id'])\n",
    "x_train,x_test,y_train,y_test=train_test_split(x,y,test_size=0.3)\n",
    "\n",
    "num_fillna=lambda x:0\n",
    "num_scaler=MinMaxScaler()\n",
    "obj_formater=OneHotEncoder(handle_unknown='infrequent_if_exist')\n",
    "pca_n_components=0\n",
    "y_scaler=MinMaxScaler()\n",
    "\n",
    "x_train_formated,num_scaler,obj_formater,pca_formater,encode_columns=preproc_x_train(x_train,num_fillna,num_scaler,obj_formater,pca_n_components)\n",
    "x_test_formated=preproc_x_test(x_test,num_fillna,num_scaler,obj_formater,pca_formater,encode_columns)\n",
    "y_train_formated,y_scaler=preprocess_y_train(pd.DataFrame(y_train),y_scaler)\n",
    "\n",
    "print(\"\"\"\n",
    "PREPROCESSING\n",
    "num_fillna=lambda x:np.mean(x)\n",
    "num_scaler=StandardScaler()\n",
    "obj_formater=OneHotEncoder(handle_unknown='infrequent_if_exist')\n",
    "pca_n_components=0\n",
    "y_scaler=StandardScaler()\n",
    "\"\"\")"
   ]
  },
  {
   "cell_type": "code",
   "execution_count": 78,
   "metadata": {},
   "outputs": [],
   "source": [
    "score=[]\n",
    "N=len(x_train_formated.columns)\n",
    "for n in range(int(N/5)):\n",
    "    n_comp=N-n*5\n",
    "    formater=PCA(n_components=n_comp)\n",
    "    formater.fit(x_train_formated)\n",
    "    score.append(np.sum(formater.explained_variance_ratio_*n*5))"
   ]
  },
  {
   "cell_type": "code",
   "execution_count": 79,
   "metadata": {},
   "outputs": [
    {
     "name": "stdout",
     "output_type": "stream",
     "text": [
      "BEST SCORE\n",
      "Features count: 296\n",
      "Drop components count: 240\n",
      "Final featues count: 56\n",
      "Press ratio: 0.8108108108108109\n",
      "Saved info: 0.8457050941684023\n"
     ]
    },
    {
     "data": {
      "image/png": "[encoded data removed]",
      "text/plain": [
       "<Figure size 640x480 with 1 Axes>"
      ]
     },
     "metadata": {},
     "output_type": "display_data"
    }
   ],
   "source": [
    "plt.plot(score)\n",
    "drop_features=score.index(max(score))*5\n",
    "best_pca=PCA(n_components=N-drop_features)\n",
    "best_pca.fit(x_train_formated)\n",
    "\n",
    "plt.scatter([drop_features/5],[np.sum(best_pca.explained_variance_ratio_*drop_features)],c='r')\n",
    "\n",
    "print('BEST SCORE')\n",
    "print('Features count:',N)\n",
    "print('Drop components count:',drop_features)\n",
    "print('Final featues count:', N-drop_features)\n",
    "print('Press ratio:', drop_features/N)\n",
    "print('Saved info:',np.sum(best_pca.explained_variance_ratio_))"
   ]
  },
  {
   "cell_type": "markdown",
   "metadata": {},
   "source": [
    "<h2>Models</h2>"
   ]
  },
  {
   "cell_type": "code",
   "execution_count": 80,
   "metadata": {},
   "outputs": [],
   "source": [
    "def fit_test(estimaror, param_grid,x_train,y_train,x_test,y_test,y_scaler:StandardScaler,cv=3):\n",
    "\n",
    "    regressor=GridSearchCV(estimator=estimaror,param_grid=param_grid,cv=cv)\n",
    "    regressor.fit(x_train, y_train)\n",
    "    \n",
    "    y_pred_train=y_scaler.inverse_transform(pd.DataFrame(regressor.predict(x_train)))\n",
    "    train_mae=mean_absolute_error(y_scaler.inverse_transform(y_train), y_pred_train)\n",
    "    train_r2=r2_score(y_scaler.inverse_transform(y_train), y_pred_train)\n",
    "\n",
    "\n",
    "    y_pred_scale=regressor.predict(x_test)\n",
    "    y_pred=y_scaler.inverse_transform(pd.DataFrame(y_pred_scale))\n",
    "    test_mae=mean_absolute_error(y_test, y_pred)\n",
    "    test_r2=r2_score(y_test, y_pred)\n",
    "\n",
    "    print('Best params:', regressor.best_params_)\n",
    "    print('Train MAE:', train_mae)\n",
    "    print('Train R2:', train_r2)\n",
    "    print('Test MAE:', test_mae)\n",
    "    print('Test R2:', test_r2)\n",
    "\n",
    "    return regressor, y_pred\n"
   ]
  },
  {
   "cell_type": "markdown",
   "metadata": {},
   "source": [
    "<h3>Raw Linear Regrassion</h3>"
   ]
  },
  {
   "cell_type": "code",
   "execution_count": 81,
   "metadata": {},
   "outputs": [
    {
     "name": "stdout",
     "output_type": "stream",
     "text": [
      "Raw LinearRegression\n",
      "Best params: {}\n",
      "Train MAE: 12056.893070030586\n",
      "Train R2: 0.9466690086410361\n",
      "Test MAE: 12435896870556.908\n",
      "Test R2: -1.666830467307911e+18\n"
     ]
    }
   ],
   "source": [
    "print('Raw LinearRegression')\n",
    "params={}\n",
    "lasso_regressor,y_pred=fit_test(estimaror=LinearRegression(),\n",
    "         param_grid=params,\n",
    "         x_train=x_train_formated,\n",
    "         y_train=y_train_formated,\n",
    "         x_test=x_test_formated,\n",
    "         y_test=y_test,\n",
    "         y_scaler=y_scaler\n",
    "       )"
   ]
  },
  {
   "cell_type": "markdown",
   "metadata": {},
   "source": [
    "<h3>Select features with Lasso</h3>"
   ]
  },
  {
   "cell_type": "code",
   "execution_count": 85,
   "metadata": {},
   "outputs": [
    {
     "name": "stdout",
     "output_type": "stream",
     "text": [
      "Lasso\n",
      "Best params: {'alpha': 0.00023333333333333333}\n",
      "Train MAE: 14562.009777114588\n",
      "Train R2: 0.9115026783481238\n",
      "Test MAE: 18266.7246860129\n",
      "Test R2: 0.7896028996986689\n"
     ]
    }
   ],
   "source": [
    "print('Lasso')\n",
    "params={'alpha':np.linspace(0.0001,0.0003, 10)}\n",
    "lasso_regressor, y_pred=fit_test(estimaror=Lasso(),\n",
    "         param_grid=params,\n",
    "         x_train=x_train_formated,\n",
    "         y_train=y_train_formated,\n",
    "         x_test=x_test_formated,\n",
    "         y_test=y_test,\n",
    "         y_scaler=y_scaler\n",
    "       )"
   ]
  },
  {
   "cell_type": "code",
   "execution_count": 86,
   "metadata": {},
   "outputs": [
    {
     "data": {
      "text/html": [
       "<div>\n",
       "<style scoped>\n",
       "    .dataframe tbody tr th:only-of-type {\n",
       "        vertical-align: middle;\n",
       "    }\n",
       "\n",
       "    .dataframe tbody tr th {\n",
       "        vertical-align: top;\n",
       "    }\n",
       "\n",
       "    .dataframe thead th {\n",
       "        text-align: right;\n",
       "    }\n",
       "</style>\n",
       "<table border=\"1\" class=\"dataframe\">\n",
       "  <thead>\n",
       "    <tr style=\"text-align: right;\">\n",
       "      <th></th>\n",
       "      <th>coef</th>\n",
       "    </tr>\n",
       "  </thead>\n",
       "  <tbody>\n",
       "    <tr>\n",
       "      <th>GrLivArea</th>\n",
       "      <td>0.302412</td>\n",
       "    </tr>\n",
       "    <tr>\n",
       "      <th>OverallQual</th>\n",
       "      <td>0.103372</td>\n",
       "    </tr>\n",
       "    <tr>\n",
       "      <th>Neighborhood_StoneBr</th>\n",
       "      <td>0.059179</td>\n",
       "    </tr>\n",
       "    <tr>\n",
       "      <th>TotalBsmtSF</th>\n",
       "      <td>0.053468</td>\n",
       "    </tr>\n",
       "    <tr>\n",
       "      <th>BsmtFinSF1</th>\n",
       "      <td>0.050118</td>\n",
       "    </tr>\n",
       "    <tr>\n",
       "      <th>...</th>\n",
       "      <td>...</td>\n",
       "    </tr>\n",
       "    <tr>\n",
       "      <th>BsmtExposure_No</th>\n",
       "      <td>-0.008288</td>\n",
       "    </tr>\n",
       "    <tr>\n",
       "      <th>ExterQual_TA</th>\n",
       "      <td>-0.008716</td>\n",
       "    </tr>\n",
       "    <tr>\n",
       "      <th>MSSubClass</th>\n",
       "      <td>-0.010907</td>\n",
       "    </tr>\n",
       "    <tr>\n",
       "      <th>PoolQC_nan</th>\n",
       "      <td>-0.023793</td>\n",
       "    </tr>\n",
       "    <tr>\n",
       "      <th>Condition2_PosN</th>\n",
       "      <td>-0.270503</td>\n",
       "    </tr>\n",
       "  </tbody>\n",
       "</table>\n",
       "<p>296 rows × 1 columns</p>\n",
       "</div>"
      ],
      "text/plain": [
       "                          coef\n",
       "GrLivArea             0.302412\n",
       "OverallQual           0.103372\n",
       "Neighborhood_StoneBr  0.059179\n",
       "TotalBsmtSF           0.053468\n",
       "BsmtFinSF1            0.050118\n",
       "...                        ...\n",
       "BsmtExposure_No      -0.008288\n",
       "ExterQual_TA         -0.008716\n",
       "MSSubClass           -0.010907\n",
       "PoolQC_nan           -0.023793\n",
       "Condition2_PosN      -0.270503\n",
       "\n",
       "[296 rows x 1 columns]"
      ]
     },
     "execution_count": 86,
     "metadata": {},
     "output_type": "execute_result"
    }
   ],
   "source": [
    "coefs=pd.DataFrame(lasso_regressor.best_estimator_.coef_, x_test_formated.columns, columns=[\"coef\"]).sort_values(by=\"coef\", ascending=False)\n",
    "coefs"
   ]
  },
  {
   "cell_type": "code",
   "execution_count": 87,
   "metadata": {},
   "outputs": [],
   "source": [
    "t_array=np.arange(start=0,stop=0.36,step=0.002)\n",
    "counts=[]\n",
    "for t in t_array:\n",
    "    counter=0\n",
    "    for val in coefs.values: \n",
    "        if abs(val)>t:counter+=1\n",
    "    counts.append(counter)"
   ]
  },
  {
   "cell_type": "code",
   "execution_count": 88,
   "metadata": {},
   "outputs": [
    {
     "data": {
      "application/vnd.plotly.v1+json": {
       "config": {
        "plotlyServerURL": "https://plot.ly"
       },
       "data": [
        {
         "type": "scatter",
         "x": [
          0,
          0.002,
          0.004,
          0.006,
          0.008,
          0.01,
          0.012,
          0.014,
          0.016,
          0.018000000000000002,
          0.02,
          0.022,
          0.024,
          0.026000000000000002,
          0.028,
          0.03,
          0.032,
          0.034,
          0.036000000000000004,
          0.038,
          0.04,
          0.042,
          0.044,
          0.046,
          0.048,
          0.05,
          0.052000000000000005,
          0.054,
          0.056,
          0.058,
          0.06,
          0.062,
          0.064,
          0.066,
          0.068,
          0.07,
          0.07200000000000001,
          0.074,
          0.076,
          0.078,
          0.08,
          0.082,
          0.084,
          0.08600000000000001,
          0.088,
          0.09,
          0.092,
          0.094,
          0.096,
          0.098,
          0.1,
          0.10200000000000001,
          0.10400000000000001,
          0.106,
          0.108,
          0.11,
          0.112,
          0.114,
          0.116,
          0.11800000000000001,
          0.12,
          0.122,
          0.124,
          0.126,
          0.128,
          0.13,
          0.132,
          0.134,
          0.136,
          0.138,
          0.14,
          0.14200000000000002,
          0.14400000000000002,
          0.146,
          0.148,
          0.15,
          0.152,
          0.154,
          0.156,
          0.158,
          0.16,
          0.162,
          0.164,
          0.166,
          0.168,
          0.17,
          0.17200000000000001,
          0.17400000000000002,
          0.176,
          0.178,
          0.18,
          0.182,
          0.184,
          0.186,
          0.188,
          0.19,
          0.192,
          0.194,
          0.196,
          0.198,
          0.2,
          0.202,
          0.20400000000000001,
          0.20600000000000002,
          0.20800000000000002,
          0.21,
          0.212,
          0.214,
          0.216,
          0.218,
          0.22,
          0.222,
          0.224,
          0.226,
          0.228,
          0.23,
          0.232,
          0.234,
          0.23600000000000002,
          0.23800000000000002,
          0.24,
          0.242,
          0.244,
          0.246,
          0.248,
          0.25,
          0.252,
          0.254,
          0.256,
          0.258,
          0.26,
          0.262,
          0.264,
          0.266,
          0.268,
          0.27,
          0.272,
          0.274,
          0.276,
          0.278,
          0.28,
          0.28200000000000003,
          0.28400000000000003,
          0.28600000000000003,
          0.28800000000000003,
          0.29,
          0.292,
          0.294,
          0.296,
          0.298,
          0.3,
          0.302,
          0.304,
          0.306,
          0.308,
          0.31,
          0.312,
          0.314,
          0.316,
          0.318,
          0.32,
          0.322,
          0.324,
          0.326,
          0.328,
          0.33,
          0.332,
          0.334,
          0.336,
          0.338,
          0.34,
          0.342,
          0.34400000000000003,
          0.34600000000000003,
          0.34800000000000003,
          0.35000000000000003,
          0.352,
          0.354,
          0.356,
          0.358
         ],
         "y": [
          76,
          56,
          47,
          37,
          33,
          28,
          25,
          23,
          21,
          19,
          18,
          16,
          14,
          14,
          14,
          12,
          10,
          9,
          9,
          9,
          9,
          7,
          7,
          7,
          7,
          6,
          5,
          4,
          4,
          4,
          3,
          3,
          3,
          3,
          3,
          3,
          3,
          3,
          3,
          3,
          3,
          3,
          3,
          3,
          3,
          3,
          3,
          3,
          3,
          3,
          3,
          3,
          2,
          2,
          2,
          2,
          2,
          2,
          2,
          2,
          2,
          2,
          2,
          2,
          2,
          2,
          2,
          2,
          2,
          2,
          2,
          2,
          2,
          2,
          2,
          2,
          2,
          2,
          2,
          2,
          2,
          2,
          2,
          2,
          2,
          2,
          2,
          2,
          2,
          2,
          2,
          2,
          2,
          2,
          2,
          2,
          2,
          2,
          2,
          2,
          2,
          2,
          2,
          2,
          2,
          2,
          2,
          2,
          2,
          2,
          2,
          2,
          2,
          2,
          2,
          2,
          2,
          2,
          2,
          2,
          2,
          2,
          2,
          2,
          2,
          2,
          2,
          2,
          2,
          2,
          2,
          2,
          2,
          2,
          2,
          2,
          1,
          1,
          1,
          1,
          1,
          1,
          1,
          1,
          1,
          1,
          1,
          1,
          1,
          1,
          1,
          1,
          0,
          0,
          0,
          0,
          0,
          0,
          0,
          0,
          0,
          0,
          0,
          0,
          0,
          0,
          0,
          0,
          0,
          0,
          0,
          0,
          0,
          0,
          0,
          0,
          0,
          0,
          0,
          0
         ]
        }
       ],
       "layout": {
        "template": {
         "data": {
          "bar": [
           {
            "error_x": {
             "color": "#2a3f5f"
            },
            "error_y": {
             "color": "#2a3f5f"
            },
            "marker": {
             "line": {
              "color": "#E5ECF6",
              "width": 0.5
             },
             "pattern": {
              "fillmode": "overlay",
              "size": 10,
              "solidity": 0.2
             }
            },
            "type": "bar"
           }
          ],
          "barpolar": [
           {
            "marker": {
             "line": {
              "color": "#E5ECF6",
              "width": 0.5
             },
             "pattern": {
              "fillmode": "overlay",
              "size": 10,
              "solidity": 0.2
             }
            },
            "type": "barpolar"
           }
          ],
          "carpet": [
           {
            "aaxis": {
             "endlinecolor": "#2a3f5f",
             "gridcolor": "white",
             "linecolor": "white",
             "minorgridcolor": "white",
             "startlinecolor": "#2a3f5f"
            },
            "baxis": {
             "endlinecolor": "#2a3f5f",
             "gridcolor": "white",
             "linecolor": "white",
             "minorgridcolor": "white",
             "startlinecolor": "#2a3f5f"
            },
            "type": "carpet"
           }
          ],
          "choropleth": [
           {
            "colorbar": {
             "outlinewidth": 0,
             "ticks": ""
            },
            "type": "choropleth"
           }
          ],
          "contour": [
           {
            "colorbar": {
             "outlinewidth": 0,
             "ticks": ""
            },
            "colorscale": [
             [
              0,
              "#0d0887"
             ],
             [
              0.1111111111111111,
              "#46039f"
             ],
             [
              0.2222222222222222,
              "#7201a8"
             ],
             [
              0.3333333333333333,
              "#9c179e"
             ],
             [
              0.4444444444444444,
              "#bd3786"
             ],
             [
              0.5555555555555556,
              "#d8576b"
             ],
             [
              0.6666666666666666,
              "#ed7953"
             ],
             [
              0.7777777777777778,
              "#fb9f3a"
             ],
             [
              0.8888888888888888,
              "#fdca26"
             ],
             [
              1,
              "#f0f921"
             ]
            ],
            "type": "contour"
           }
          ],
          "contourcarpet": [
           {
            "colorbar": {
             "outlinewidth": 0,
             "ticks": ""
            },
            "type": "contourcarpet"
           }
          ],
          "heatmap": [
           {
            "colorbar": {
             "outlinewidth": 0,
             "ticks": ""
            },
            "colorscale": [
             [
              0,
              "#0d0887"
             ],
             [
              0.1111111111111111,
              "#46039f"
             ],
             [
              0.2222222222222222,
              "#7201a8"
             ],
             [
              0.3333333333333333,
              "#9c179e"
             ],
             [
              0.4444444444444444,
              "#bd3786"
             ],
             [
              0.5555555555555556,
              "#d8576b"
             ],
             [
              0.6666666666666666,
              "#ed7953"
             ],
             [
              0.7777777777777778,
              "#fb9f3a"
             ],
             [
              0.8888888888888888,
              "#fdca26"
             ],
             [
              1,
              "#f0f921"
             ]
            ],
            "type": "heatmap"
           }
          ],
          "heatmapgl": [
           {
            "colorbar": {
             "outlinewidth": 0,
             "ticks": ""
            },
            "colorscale": [
             [
              0,
              "#0d0887"
             ],
             [
              0.1111111111111111,
              "#46039f"
             ],
             [
              0.2222222222222222,
              "#7201a8"
             ],
             [
              0.3333333333333333,
              "#9c179e"
             ],
             [
              0.4444444444444444,
              "#bd3786"
             ],
             [
              0.5555555555555556,
              "#d8576b"
             ],
             [
              0.6666666666666666,
              "#ed7953"
             ],
             [
              0.7777777777777778,
              "#fb9f3a"
             ],
             [
              0.8888888888888888,
              "#fdca26"
             ],
             [
              1,
              "#f0f921"
             ]
            ],
            "type": "heatmapgl"
           }
          ],
          "histogram": [
           {
            "marker": {
             "pattern": {
              "fillmode": "overlay",
              "size": 10,
              "solidity": 0.2
             }
            },
            "type": "histogram"
           }
          ],
          "histogram2d": [
           {
            "colorbar": {
             "outlinewidth": 0,
             "ticks": ""
            },
            "colorscale": [
             [
              0,
              "#0d0887"
             ],
             [
              0.1111111111111111,
              "#46039f"
             ],
             [
              0.2222222222222222,
              "#7201a8"
             ],
             [
              0.3333333333333333,
              "#9c179e"
             ],
             [
              0.4444444444444444,
              "#bd3786"
             ],
             [
              0.5555555555555556,
              "#d8576b"
             ],
             [
              0.6666666666666666,
              "#ed7953"
             ],
             [
              0.7777777777777778,
              "#fb9f3a"
             ],
             [
              0.8888888888888888,
              "#fdca26"
             ],
             [
              1,
              "#f0f921"
             ]
            ],
            "type": "histogram2d"
           }
          ],
          "histogram2dcontour": [
           {
            "colorbar": {
             "outlinewidth": 0,
             "ticks": ""
            },
            "colorscale": [
             [
              0,
              "#0d0887"
             ],
             [
              0.1111111111111111,
              "#46039f"
             ],
             [
              0.2222222222222222,
              "#7201a8"
             ],
             [
              0.3333333333333333,
              "#9c179e"
             ],
             [
              0.4444444444444444,
              "#bd3786"
             ],
             [
              0.5555555555555556,
              "#d8576b"
             ],
             [
              0.6666666666666666,
              "#ed7953"
             ],
             [
              0.7777777777777778,
              "#fb9f3a"
             ],
             [
              0.8888888888888888,
              "#fdca26"
             ],
             [
              1,
              "#f0f921"
             ]
            ],
            "type": "histogram2dcontour"
           }
          ],
          "mesh3d": [
           {
            "colorbar": {
             "outlinewidth": 0,
             "ticks": ""
            },
            "type": "mesh3d"
           }
          ],
          "parcoords": [
           {
            "line": {
             "colorbar": {
              "outlinewidth": 0,
              "ticks": ""
             }
            },
            "type": "parcoords"
           }
          ],
          "pie": [
           {
            "automargin": true,
            "type": "pie"
           }
          ],
          "scatter": [
           {
            "fillpattern": {
             "fillmode": "overlay",
             "size": 10,
             "solidity": 0.2
            },
            "type": "scatter"
           }
          ],
          "scatter3d": [
           {
            "line": {
             "colorbar": {
              "outlinewidth": 0,
              "ticks": ""
             }
            },
            "marker": {
             "colorbar": {
              "outlinewidth": 0,
              "ticks": ""
             }
            },
            "type": "scatter3d"
           }
          ],
          "scattercarpet": [
           {
            "marker": {
             "colorbar": {
              "outlinewidth": 0,
              "ticks": ""
             }
            },
            "type": "scattercarpet"
           }
          ],
          "scattergeo": [
           {
            "marker": {
             "colorbar": {
              "outlinewidth": 0,
              "ticks": ""
             }
            },
            "type": "scattergeo"
           }
          ],
          "scattergl": [
           {
            "marker": {
             "colorbar": {
              "outlinewidth": 0,
              "ticks": ""
             }
            },
            "type": "scattergl"
           }
          ],
          "scattermapbox": [
           {
            "marker": {
             "colorbar": {
              "outlinewidth": 0,
              "ticks": ""
             }
            },
            "type": "scattermapbox"
           }
          ],
          "scatterpolar": [
           {
            "marker": {
             "colorbar": {
              "outlinewidth": 0,
              "ticks": ""
             }
            },
            "type": "scatterpolar"
           }
          ],
          "scatterpolargl": [
           {
            "marker": {
             "colorbar": {
              "outlinewidth": 0,
              "ticks": ""
             }
            },
            "type": "scatterpolargl"
           }
          ],
          "scatterternary": [
           {
            "marker": {
             "colorbar": {
              "outlinewidth": 0,
              "ticks": ""
             }
            },
            "type": "scatterternary"
           }
          ],
          "surface": [
           {
            "colorbar": {
             "outlinewidth": 0,
             "ticks": ""
            },
            "colorscale": [
             [
              0,
              "#0d0887"
             ],
             [
              0.1111111111111111,
              "#46039f"
             ],
             [
              0.2222222222222222,
              "#7201a8"
             ],
             [
              0.3333333333333333,
              "#9c179e"
             ],
             [
              0.4444444444444444,
              "#bd3786"
             ],
             [
              0.5555555555555556,
              "#d8576b"
             ],
             [
              0.6666666666666666,
              "#ed7953"
             ],
             [
              0.7777777777777778,
              "#fb9f3a"
             ],
             [
              0.8888888888888888,
              "#fdca26"
             ],
             [
              1,
              "#f0f921"
             ]
            ],
            "type": "surface"
           }
          ],
          "table": [
           {
            "cells": {
             "fill": {
              "color": "#EBF0F8"
             },
             "line": {
              "color": "white"
             }
            },
            "header": {
             "fill": {
              "color": "#C8D4E3"
             },
             "line": {
              "color": "white"
             }
            },
            "type": "table"
           }
          ]
         },
         "layout": {
          "annotationdefaults": {
           "arrowcolor": "#2a3f5f",
           "arrowhead": 0,
           "arrowwidth": 1
          },
          "autotypenumbers": "strict",
          "coloraxis": {
           "colorbar": {
            "outlinewidth": 0,
            "ticks": ""
           }
          },
          "colorscale": {
           "diverging": [
            [
             0,
             "#8e0152"
            ],
            [
             0.1,
             "#c51b7d"
            ],
            [
             0.2,
             "#de77ae"
            ],
            [
             0.3,
             "#f1b6da"
            ],
            [
             0.4,
             "#fde0ef"
            ],
            [
             0.5,
             "#f7f7f7"
            ],
            [
             0.6,
             "#e6f5d0"
            ],
            [
             0.7,
             "#b8e186"
            ],
            [
             0.8,
             "#7fbc41"
            ],
            [
             0.9,
             "#4d9221"
            ],
            [
             1,
             "#276419"
            ]
           ],
           "sequential": [
            [
             0,
             "#0d0887"
            ],
            [
             0.1111111111111111,
             "#46039f"
            ],
            [
             0.2222222222222222,
             "#7201a8"
            ],
            [
             0.3333333333333333,
             "#9c179e"
            ],
            [
             0.4444444444444444,
             "#bd3786"
            ],
            [
             0.5555555555555556,
             "#d8576b"
            ],
            [
             0.6666666666666666,
             "#ed7953"
            ],
            [
             0.7777777777777778,
             "#fb9f3a"
            ],
            [
             0.8888888888888888,
             "#fdca26"
            ],
            [
             1,
             "#f0f921"
            ]
           ],
           "sequentialminus": [
            [
             0,
             "#0d0887"
            ],
            [
             0.1111111111111111,
             "#46039f"
            ],
            [
             0.2222222222222222,
             "#7201a8"
            ],
            [
             0.3333333333333333,
             "#9c179e"
            ],
            [
             0.4444444444444444,
             "#bd3786"
            ],
            [
             0.5555555555555556,
             "#d8576b"
            ],
            [
             0.6666666666666666,
             "#ed7953"
            ],
            [
             0.7777777777777778,
             "#fb9f3a"
            ],
            [
             0.8888888888888888,
             "#fdca26"
            ],
            [
             1,
             "#f0f921"
            ]
           ]
          },
          "colorway": [
           "#636efa",
           "#EF553B",
           "#00cc96",
           "#ab63fa",
           "#FFA15A",
           "#19d3f3",
           "#FF6692",
           "#B6E880",
           "#FF97FF",
           "#FECB52"
          ],
          "font": {
           "color": "#2a3f5f"
          },
          "geo": {
           "bgcolor": "white",
           "lakecolor": "white",
           "landcolor": "#E5ECF6",
           "showlakes": true,
           "showland": true,
           "subunitcolor": "white"
          },
          "hoverlabel": {
           "align": "left"
          },
          "hovermode": "closest",
          "mapbox": {
           "style": "light"
          },
          "paper_bgcolor": "white",
          "plot_bgcolor": "#E5ECF6",
          "polar": {
           "angularaxis": {
            "gridcolor": "white",
            "linecolor": "white",
            "ticks": ""
           },
           "bgcolor": "#E5ECF6",
           "radialaxis": {
            "gridcolor": "white",
            "linecolor": "white",
            "ticks": ""
           }
          },
          "scene": {
           "xaxis": {
            "backgroundcolor": "#E5ECF6",
            "gridcolor": "white",
            "gridwidth": 2,
            "linecolor": "white",
            "showbackground": true,
            "ticks": "",
            "zerolinecolor": "white"
           },
           "yaxis": {
            "backgroundcolor": "#E5ECF6",
            "gridcolor": "white",
            "gridwidth": 2,
            "linecolor": "white",
            "showbackground": true,
            "ticks": "",
            "zerolinecolor": "white"
           },
           "zaxis": {
            "backgroundcolor": "#E5ECF6",
            "gridcolor": "white",
            "gridwidth": 2,
            "linecolor": "white",
            "showbackground": true,
            "ticks": "",
            "zerolinecolor": "white"
           }
          },
          "shapedefaults": {
           "line": {
            "color": "#2a3f5f"
           }
          },
          "ternary": {
           "aaxis": {
            "gridcolor": "white",
            "linecolor": "white",
            "ticks": ""
           },
           "baxis": {
            "gridcolor": "white",
            "linecolor": "white",
            "ticks": ""
           },
           "bgcolor": "#E5ECF6",
           "caxis": {
            "gridcolor": "white",
            "linecolor": "white",
            "ticks": ""
           }
          },
          "title": {
           "x": 0.05
          },
          "xaxis": {
           "automargin": true,
           "gridcolor": "white",
           "linecolor": "white",
           "ticks": "",
           "title": {
            "standoff": 15
           },
           "zerolinecolor": "white",
           "zerolinewidth": 2
          },
          "yaxis": {
           "automargin": true,
           "gridcolor": "white",
           "linecolor": "white",
           "ticks": "",
           "title": {
            "standoff": 15
           },
           "zerolinecolor": "white",
           "zerolinewidth": 2
          }
         }
        }
       }
      }
     },
     "metadata": {},
     "output_type": "display_data"
    }
   ],
   "source": [
    "import plotly.graph_objects as go\n",
    "\n",
    "\n",
    "fig = go.Figure(data=go.Scatter(x=t_array, y=counts))\n",
    "fig.show()"
   ]
  },
  {
   "cell_type": "code",
   "execution_count": 89,
   "metadata": {},
   "outputs": [
    {
     "name": "stdout",
     "output_type": "stream",
     "text": [
      "Selected features:\n",
      "['GrLivArea', 'OverallQual', 'Neighborhood_StoneBr', 'TotalBsmtSF', 'BsmtFinSF1', 'Neighborhood_NoRidge', 'BsmtQual_Ex', 'KitchenQual_Ex', 'OverallCond', 'Neighborhood_NridgHt', 'GarageCars', 'BsmtExposure_Gd', 'YearBuilt', 'Neighborhood_Somerst', 'BldgType_1Fam', 'SaleType_New', 'MasVnrArea', 'Neighborhood_Crawfor', 'Exterior1st_BrkFace', 'Functional_Typ', 'Fireplaces', 'YearRemodAdd', 'GarageArea', 'ExterQual_Ex', 'Condition1_Norm', 'LotConfig_CulDSac', 'LotShape_IR2', 'MSZoning_RL', 'ScreenPorch', 'FullBath', 'HalfBath', 'HeatingQC_Ex', 'SaleCondition_Normal', 'BsmtCond_TA', 'Neighborhood_BrkSide', 'WoodDeckSF', 'Condition2_Norm', 'BsmtFinType1_GLQ', 'GarageType_BuiltIn', 'LandContour_HLS', 'RoofMatl_WdShngl', 'Exterior2nd_ImStucc', 'Fence_MnPrv', 'HouseStyle_1Story', 'Exterior2nd_VinylSd', 'BsmtFinType1_BLQ', 'Foundation_PConc', 'RoofStyle_Gable', 'BsmtCond_Fa', 'Neighborhood_OldTown', 'HeatingQC_Gd', 'Exterior2nd_Plywood', 'GarageFinish_RFn', 'BsmtQual_TA', 'ExterCond_TA', 'MoSold', 'MSZoning_C_(all)', 'LotShape_Reg', 'BsmtHalfBath', 'KitchenQual_TA', 'LandContour_Bnk', 'MasVnrType_BrkFace', 'BsmtFinType1_Rec', 'Neighborhood_CollgCr', 'Exterior1st_HdBoard', 'LotConfig_FR2', 'Neighborhood_Mitchel', 'Neighborhood_NAmes', 'BsmtFinType1_Unf', 'SaleType_WD', 'Neighborhood_Edwards', 'BsmtExposure_No', 'ExterQual_TA', 'MSSubClass', 'PoolQC_nan', 'Condition2_PosN'] \n",
      " Count: 76\n"
     ]
    }
   ],
   "source": [
    "#also can use threshold\n",
    "#t=0.001\n",
    "\n",
    "final_num_columns=[]\n",
    "for i,j in zip(coefs.index,coefs.values): \n",
    "    if abs(j)!=0:final_num_columns.append(i)\n",
    "\n",
    "print('Selected features:')\n",
    "print(final_num_columns,'\\n' ,'Count:',len(final_num_columns))"
   ]
  },
  {
   "cell_type": "markdown",
   "metadata": {},
   "source": [
    "<h3>LineraRegression on Lasso passed features</h3>"
   ]
  },
  {
   "cell_type": "code",
   "execution_count": 90,
   "metadata": {},
   "outputs": [
    {
     "name": "stdout",
     "output_type": "stream",
     "text": [
      "LinearRegression\n",
      "Best params: {}\n",
      "Train MAE: 14272.46134960106\n",
      "Train R2: 0.9255246641512568\n",
      "Test MAE: 19045.852804363763\n",
      "Test R2: 0.7247060578370699\n"
     ]
    }
   ],
   "source": [
    "print('LinearRegression')\n",
    "params={}\n",
    "lasso_regressor,y_pred=fit_test(estimaror=LinearRegression(),\n",
    "         param_grid=params,\n",
    "         x_train=x_train_formated[final_num_columns],\n",
    "         y_train=y_train_formated,\n",
    "         x_test=x_test_formated[final_num_columns],\n",
    "         y_test=y_test,\n",
    "         y_scaler=y_scaler\n",
    "       )"
   ]
  },
  {
   "cell_type": "markdown",
   "metadata": {},
   "source": [
    "<h3>Ridge on Lasso passed features</h3>"
   ]
  },
  {
   "cell_type": "code",
   "execution_count": 91,
   "metadata": {},
   "outputs": [
    {
     "name": "stdout",
     "output_type": "stream",
     "text": [
      "Ridge\n",
      "Best params: {'alpha': 1.0}\n",
      "Train MAE: 14570.704430487194\n",
      "Train R2: 0.9176219961076788\n",
      "Test MAE: 18561.11504770169\n",
      "Test R2: 0.7861243218168845\n"
     ]
    }
   ],
   "source": [
    "print('Ridge')\n",
    "params={'alpha':np.linspace(1,10, 10)}\n",
    "lasso_regressor,y_pred=fit_test(estimaror=Ridge(),\n",
    "         param_grid=params,\n",
    "         x_train=x_train_formated[final_num_columns],\n",
    "         y_train=y_train_formated,\n",
    "         x_test=x_test_formated[final_num_columns],\n",
    "         y_test=y_test,\n",
    "         y_scaler=y_scaler\n",
    "       )"
   ]
  },
  {
   "cell_type": "markdown",
   "metadata": {},
   "source": [
    "<h3>DecisionTreeRegressor on Lasso passed features</h3>"
   ]
  },
  {
   "cell_type": "code",
   "execution_count": 467,
   "metadata": {},
   "outputs": [
    {
     "name": "stdout",
     "output_type": "stream",
     "text": [
      "DecisionTreeRegressor\n",
      "Best params: {'max_depth': 6}\n",
      "Train MAE: 17526.75394088705\n",
      "Train R2: 0.911749426172138\n",
      "Test MAE: 27155.964799441907\n",
      "Test R2: 0.7200954899343598\n"
     ]
    }
   ],
   "source": [
    "print('DecisionTreeRegressor')\n",
    "params={'max_depth':np.arange(1,100,5)}\n",
    "lasso_regressor=fit_test(estimaror=DecisionTreeRegressor(),\n",
    "         param_grid=params,\n",
    "         x_train=x_train_formated[final_num_columns],\n",
    "         y_train=y_train_formated,\n",
    "         x_test=x_test_formated[final_num_columns],\n",
    "         y_test=y_test,\n",
    "         y_scaler=y_scaler\n",
    "       )"
   ]
  },
  {
   "cell_type": "code",
   "execution_count": 47,
   "metadata": {},
   "outputs": [
    {
     "name": "stdout",
     "output_type": "stream",
     "text": [
      "RandomForestRegressor\n"
     ]
    },
    {
     "name": "stderr",
     "output_type": "stream",
     "text": [
      "c:\\Python\\Lib\\site-packages\\sklearn\\base.py:1151: DataConversionWarning:\n",
      "\n",
      "A column-vector y was passed when a 1d array was expected. Please change the shape of y to (n_samples,), for example using ravel().\n",
      "\n",
      "c:\\Python\\Lib\\site-packages\\sklearn\\base.py:1151: DataConversionWarning:\n",
      "\n",
      "A column-vector y was passed when a 1d array was expected. Please change the shape of y to (n_samples,), for example using ravel().\n",
      "\n",
      "c:\\Python\\Lib\\site-packages\\sklearn\\base.py:1151: DataConversionWarning:\n",
      "\n",
      "A column-vector y was passed when a 1d array was expected. Please change the shape of y to (n_samples,), for example using ravel().\n",
      "\n",
      "c:\\Python\\Lib\\site-packages\\sklearn\\base.py:1151: DataConversionWarning:\n",
      "\n",
      "A column-vector y was passed when a 1d array was expected. Please change the shape of y to (n_samples,), for example using ravel().\n",
      "\n",
      "c:\\Python\\Lib\\site-packages\\sklearn\\base.py:1151: DataConversionWarning:\n",
      "\n",
      "A column-vector y was passed when a 1d array was expected. Please change the shape of y to (n_samples,), for example using ravel().\n",
      "\n"
     ]
    },
    {
     "name": "stdout",
     "output_type": "stream",
     "text": [
      "Best params: {'bootstrap': True, 'max_depth': 4, 'n_estimators': 2}\n",
      "Train MAE: 19929.319423479577\n",
      "Train R2: 0.8522929912667033\n",
      "Test MAE: 21649.431194542696\n",
      "Test R2: 0.7306849827986813\n"
     ]
    },
    {
     "name": "stderr",
     "output_type": "stream",
     "text": [
      "c:\\Python\\Lib\\site-packages\\sklearn\\base.py:1151: DataConversionWarning:\n",
      "\n",
      "A column-vector y was passed when a 1d array was expected. Please change the shape of y to (n_samples,), for example using ravel().\n",
      "\n",
      "c:\\Python\\Lib\\site-packages\\sklearn\\base.py:1151: DataConversionWarning:\n",
      "\n",
      "A column-vector y was passed when a 1d array was expected. Please change the shape of y to (n_samples,), for example using ravel().\n",
      "\n"
     ]
    }
   ],
   "source": [
    "print('RandomForestRegressor')\n",
    "params={'max_depth':np.arange(4,5,1),\n",
    "        'n_estimators':np.arange(1,3,1),\n",
    "        'bootstrap':[True],\n",
    "        }\n",
    "lasso_regressor=fit_test(estimaror=RandomForestRegressor(),\n",
    "         param_grid=params,\n",
    "         x_train=x_train_formated[final_num_columns],\n",
    "         y_train=y_train_formated,\n",
    "         x_test=x_test_formated[final_num_columns],\n",
    "         y_test=y_test,\n",
    "         y_scaler=y_scaler\n",
    "       )"
   ]
  },
  {
   "cell_type": "code",
   "execution_count": 98,
   "metadata": {},
   "outputs": [
    {
     "name": "stdout",
     "output_type": "stream",
     "text": [
      "XGBRegressor\n"
     ]
    },
    {
     "name": "stderr",
     "output_type": "stream",
     "text": [
      "c:\\Python\\Lib\\site-packages\\xgboost\\data.py:312: FutureWarning:\n",
      "\n",
      "is_sparse is deprecated and will be removed in a future version. Check `isinstance(dtype, pd.SparseDtype)` instead.\n",
      "\n",
      "c:\\Python\\Lib\\site-packages\\xgboost\\data.py:314: FutureWarning:\n",
      "\n",
      "is_categorical_dtype is deprecated and will be removed in a future version. Use isinstance(dtype, CategoricalDtype) instead\n",
      "\n",
      "c:\\Python\\Lib\\site-packages\\xgboost\\data.py:345: FutureWarning:\n",
      "\n",
      "is_categorical_dtype is deprecated and will be removed in a future version. Use isinstance(dtype, CategoricalDtype) instead\n",
      "\n",
      "c:\\Python\\Lib\\site-packages\\xgboost\\data.py:336: FutureWarning:\n",
      "\n",
      "is_categorical_dtype is deprecated and will be removed in a future version. Use isinstance(dtype, CategoricalDtype) instead\n",
      "\n",
      "c:\\Python\\Lib\\site-packages\\xgboost\\data.py:345: FutureWarning:\n",
      "\n",
      "is_categorical_dtype is deprecated and will be removed in a future version. Use isinstance(dtype, CategoricalDtype) instead\n",
      "\n",
      "c:\\Python\\Lib\\site-packages\\xgboost\\data.py:336: FutureWarning:\n",
      "\n",
      "is_categorical_dtype is deprecated and will be removed in a future version. Use isinstance(dtype, CategoricalDtype) instead\n",
      "\n",
      "c:\\Python\\Lib\\site-packages\\xgboost\\data.py:312: FutureWarning:\n",
      "\n",
      "is_sparse is deprecated and will be removed in a future version. Check `isinstance(dtype, pd.SparseDtype)` instead.\n",
      "\n",
      "c:\\Python\\Lib\\site-packages\\xgboost\\data.py:314: FutureWarning:\n",
      "\n",
      "is_categorical_dtype is deprecated and will be removed in a future version. Use isinstance(dtype, CategoricalDtype) instead\n",
      "\n",
      "c:\\Python\\Lib\\site-packages\\xgboost\\data.py:345: FutureWarning:\n",
      "\n",
      "is_categorical_dtype is deprecated and will be removed in a future version. Use isinstance(dtype, CategoricalDtype) instead\n",
      "\n",
      "c:\\Python\\Lib\\site-packages\\xgboost\\data.py:336: FutureWarning:\n",
      "\n",
      "is_categorical_dtype is deprecated and will be removed in a future version. Use isinstance(dtype, CategoricalDtype) instead\n",
      "\n",
      "c:\\Python\\Lib\\site-packages\\xgboost\\data.py:312: FutureWarning:\n",
      "\n",
      "is_sparse is deprecated and will be removed in a future version. Check `isinstance(dtype, pd.SparseDtype)` instead.\n",
      "\n",
      "c:\\Python\\Lib\\site-packages\\xgboost\\data.py:314: FutureWarning:\n",
      "\n",
      "is_categorical_dtype is deprecated and will be removed in a future version. Use isinstance(dtype, CategoricalDtype) instead\n",
      "\n",
      "c:\\Python\\Lib\\site-packages\\xgboost\\data.py:345: FutureWarning:\n",
      "\n",
      "is_categorical_dtype is deprecated and will be removed in a future version. Use isinstance(dtype, CategoricalDtype) instead\n",
      "\n",
      "c:\\Python\\Lib\\site-packages\\xgboost\\data.py:336: FutureWarning:\n",
      "\n",
      "is_categorical_dtype is deprecated and will be removed in a future version. Use isinstance(dtype, CategoricalDtype) instead\n",
      "\n",
      "c:\\Python\\Lib\\site-packages\\xgboost\\data.py:345: FutureWarning:\n",
      "\n",
      "is_categorical_dtype is deprecated and will be removed in a future version. Use isinstance(dtype, CategoricalDtype) instead\n",
      "\n",
      "c:\\Python\\Lib\\site-packages\\xgboost\\data.py:336: FutureWarning:\n",
      "\n",
      "is_categorical_dtype is deprecated and will be removed in a future version. Use isinstance(dtype, CategoricalDtype) instead\n",
      "\n",
      "c:\\Python\\Lib\\site-packages\\xgboost\\data.py:312: FutureWarning:\n",
      "\n",
      "is_sparse is deprecated and will be removed in a future version. Check `isinstance(dtype, pd.SparseDtype)` instead.\n",
      "\n",
      "c:\\Python\\Lib\\site-packages\\xgboost\\data.py:314: FutureWarning:\n",
      "\n",
      "is_categorical_dtype is deprecated and will be removed in a future version. Use isinstance(dtype, CategoricalDtype) instead\n",
      "\n",
      "c:\\Python\\Lib\\site-packages\\xgboost\\data.py:345: FutureWarning:\n",
      "\n",
      "is_categorical_dtype is deprecated and will be removed in a future version. Use isinstance(dtype, CategoricalDtype) instead\n",
      "\n",
      "c:\\Python\\Lib\\site-packages\\xgboost\\data.py:336: FutureWarning:\n",
      "\n",
      "is_categorical_dtype is deprecated and will be removed in a future version. Use isinstance(dtype, CategoricalDtype) instead\n",
      "\n",
      "c:\\Python\\Lib\\site-packages\\xgboost\\data.py:312: FutureWarning:\n",
      "\n",
      "is_sparse is deprecated and will be removed in a future version. Check `isinstance(dtype, pd.SparseDtype)` instead.\n",
      "\n",
      "c:\\Python\\Lib\\site-packages\\xgboost\\data.py:314: FutureWarning:\n",
      "\n",
      "is_categorical_dtype is deprecated and will be removed in a future version. Use isinstance(dtype, CategoricalDtype) instead\n",
      "\n",
      "c:\\Python\\Lib\\site-packages\\xgboost\\data.py:345: FutureWarning:\n",
      "\n",
      "is_categorical_dtype is deprecated and will be removed in a future version. Use isinstance(dtype, CategoricalDtype) instead\n",
      "\n",
      "c:\\Python\\Lib\\site-packages\\xgboost\\data.py:336: FutureWarning:\n",
      "\n",
      "is_categorical_dtype is deprecated and will be removed in a future version. Use isinstance(dtype, CategoricalDtype) instead\n",
      "\n",
      "c:\\Python\\Lib\\site-packages\\xgboost\\data.py:345: FutureWarning:\n",
      "\n",
      "is_categorical_dtype is deprecated and will be removed in a future version. Use isinstance(dtype, CategoricalDtype) instead\n",
      "\n",
      "c:\\Python\\Lib\\site-packages\\xgboost\\data.py:336: FutureWarning:\n",
      "\n",
      "is_categorical_dtype is deprecated and will be removed in a future version. Use isinstance(dtype, CategoricalDtype) instead\n",
      "\n",
      "c:\\Python\\Lib\\site-packages\\xgboost\\data.py:312: FutureWarning:\n",
      "\n",
      "is_sparse is deprecated and will be removed in a future version. Check `isinstance(dtype, pd.SparseDtype)` instead.\n",
      "\n",
      "c:\\Python\\Lib\\site-packages\\xgboost\\data.py:314: FutureWarning:\n",
      "\n",
      "is_categorical_dtype is deprecated and will be removed in a future version. Use isinstance(dtype, CategoricalDtype) instead\n",
      "\n",
      "c:\\Python\\Lib\\site-packages\\xgboost\\data.py:345: FutureWarning:\n",
      "\n",
      "is_categorical_dtype is deprecated and will be removed in a future version. Use isinstance(dtype, CategoricalDtype) instead\n",
      "\n",
      "c:\\Python\\Lib\\site-packages\\xgboost\\data.py:336: FutureWarning:\n",
      "\n",
      "is_categorical_dtype is deprecated and will be removed in a future version. Use isinstance(dtype, CategoricalDtype) instead\n",
      "\n",
      "c:\\Python\\Lib\\site-packages\\xgboost\\data.py:312: FutureWarning:\n",
      "\n",
      "is_sparse is deprecated and will be removed in a future version. Check `isinstance(dtype, pd.SparseDtype)` instead.\n",
      "\n",
      "c:\\Python\\Lib\\site-packages\\xgboost\\data.py:314: FutureWarning:\n",
      "\n",
      "is_categorical_dtype is deprecated and will be removed in a future version. Use isinstance(dtype, CategoricalDtype) instead\n",
      "\n",
      "c:\\Python\\Lib\\site-packages\\xgboost\\data.py:345: FutureWarning:\n",
      "\n",
      "is_categorical_dtype is deprecated and will be removed in a future version. Use isinstance(dtype, CategoricalDtype) instead\n",
      "\n",
      "c:\\Python\\Lib\\site-packages\\xgboost\\data.py:336: FutureWarning:\n",
      "\n",
      "is_categorical_dtype is deprecated and will be removed in a future version. Use isinstance(dtype, CategoricalDtype) instead\n",
      "\n",
      "c:\\Python\\Lib\\site-packages\\xgboost\\data.py:345: FutureWarning:\n",
      "\n",
      "is_categorical_dtype is deprecated and will be removed in a future version. Use isinstance(dtype, CategoricalDtype) instead\n",
      "\n",
      "c:\\Python\\Lib\\site-packages\\xgboost\\data.py:336: FutureWarning:\n",
      "\n",
      "is_categorical_dtype is deprecated and will be removed in a future version. Use isinstance(dtype, CategoricalDtype) instead\n",
      "\n"
     ]
    },
    {
     "name": "stdout",
     "output_type": "stream",
     "text": [
      "Best params: {'colsample_bylevel': 1, 'colsample_bytree': 1, 'eval_metric': 'rmse', 'learning_rate': 0.1, 'max_depth': 2, 'n_estimators': 1000, 'objective': 'reg:squarederror', 'random_state': 1, 'reg_lambda': 0.1, 'subsample': 1}\n",
      "Train MAE: 5984.263461656066\n",
      "Train R2: 0.9900338908114023\n",
      "Test MAE: 15475.725224743152\n",
      "Test R2: 0.9048633564032148\n"
     ]
    },
    {
     "name": "stderr",
     "output_type": "stream",
     "text": [
      "c:\\Python\\Lib\\site-packages\\xgboost\\data.py:312: FutureWarning:\n",
      "\n",
      "is_sparse is deprecated and will be removed in a future version. Check `isinstance(dtype, pd.SparseDtype)` instead.\n",
      "\n",
      "c:\\Python\\Lib\\site-packages\\xgboost\\data.py:314: FutureWarning:\n",
      "\n",
      "is_categorical_dtype is deprecated and will be removed in a future version. Use isinstance(dtype, CategoricalDtype) instead\n",
      "\n",
      "c:\\Python\\Lib\\site-packages\\xgboost\\data.py:345: FutureWarning:\n",
      "\n",
      "is_categorical_dtype is deprecated and will be removed in a future version. Use isinstance(dtype, CategoricalDtype) instead\n",
      "\n",
      "c:\\Python\\Lib\\site-packages\\xgboost\\data.py:336: FutureWarning:\n",
      "\n",
      "is_categorical_dtype is deprecated and will be removed in a future version. Use isinstance(dtype, CategoricalDtype) instead\n",
      "\n",
      "c:\\Python\\Lib\\site-packages\\xgboost\\data.py:312: FutureWarning:\n",
      "\n",
      "is_sparse is deprecated and will be removed in a future version. Check `isinstance(dtype, pd.SparseDtype)` instead.\n",
      "\n",
      "c:\\Python\\Lib\\site-packages\\xgboost\\data.py:314: FutureWarning:\n",
      "\n",
      "is_categorical_dtype is deprecated and will be removed in a future version. Use isinstance(dtype, CategoricalDtype) instead\n",
      "\n",
      "c:\\Python\\Lib\\site-packages\\xgboost\\data.py:345: FutureWarning:\n",
      "\n",
      "is_categorical_dtype is deprecated and will be removed in a future version. Use isinstance(dtype, CategoricalDtype) instead\n",
      "\n",
      "c:\\Python\\Lib\\site-packages\\xgboost\\data.py:336: FutureWarning:\n",
      "\n",
      "is_categorical_dtype is deprecated and will be removed in a future version. Use isinstance(dtype, CategoricalDtype) instead\n",
      "\n"
     ]
    }
   ],
   "source": [
    "print('XGBRegressor')\n",
    "params={'max_depth':[2],#np.arange(1,10),\n",
    "        'n_estimators':[1000],#np.arange(1,100,10),\n",
    "        \"objective\": [\"reg:squarederror\"],\n",
    "        \"learning_rate\": [0.1],#np.arange(0.1,0.2,0.1),\n",
    "        \"subsample\": [1],#np.arange(0.9,1.1,0.1),\n",
    "        \"colsample_bytree\":[1],#np.arange(0.5,0.6,0.1),\n",
    "        \"colsample_bylevel\":[1],#np.arange(0.8,0.9,0.1),\n",
    "        \"reg_lambda\":[0.1],#np.arange(0.05,0.15,0.01),\n",
    "        \"eval_metric\": [\"rmse\"],\n",
    "        \"random_state\":[1],\n",
    "}\n",
    "\n",
    "lasso_regressor=fit_test(estimaror=XGBRegressor(),\n",
    "         param_grid=params,\n",
    "         x_train=x_train_formated[final_num_columns],\n",
    "         y_train=y_train_formated,\n",
    "         x_test=x_test_formated[final_num_columns],\n",
    "         y_test=y_test,\n",
    "         y_scaler=y_scaler\n",
    "       )"
   ]
  },
  {
   "cell_type": "code",
   "execution_count": 504,
   "metadata": {},
   "outputs": [
    {
     "data": {
      "text/plain": [
       "(array([ 1.,  0.,  0.,  1.,  1.,  0.,  1.,  2.,  1.,  3.,  2.,  5.,  3.,\n",
       "         4.,  6.,  7., 12., 11., 11., 13., 21., 22., 19., 19., 10., 10.,\n",
       "        10., 14., 14., 13., 17., 13., 12.,  9., 10., 10.,  7.,  9.,  9.,\n",
       "         5.,  4.,  6.,  4.,  6.,  6.,  3.,  7.,  5.,  8.,  5.,  3.,  2.,\n",
       "         2.,  1.,  3.,  0.,  3.,  1.,  1.,  2.,  3.,  1.,  4.,  0.,  1.,\n",
       "         2.,  0.,  3.,  2.,  0.,  0.,  1.,  2.,  1.,  0.,  0.,  2.,  3.,\n",
       "         0.,  0.,  0.,  0.,  1.,  0.,  0.,  2.,  0.,  0.,  0.,  0.,  0.,\n",
       "         0.,  0.,  0.,  0.,  0.,  0.,  0.,  0.,  1.]),\n",
       " array([ 36123.73046875,  40706.9609375 ,  45290.19140625,  49873.41796875,\n",
       "         54456.6484375 ,  59039.87890625,  63623.109375  ,  68206.3359375 ,\n",
       "         72789.5703125 ,  77372.796875  ,  81956.0234375 ,  86539.2578125 ,\n",
       "         91122.484375  ,  95705.71875   , 100288.9453125 , 104872.171875  ,\n",
       "        109455.40625   , 114038.6328125 , 118621.859375  , 123205.09375   ,\n",
       "        127788.3203125 , 132371.546875  , 136954.78125   , 141538.015625  ,\n",
       "        146121.234375  , 150704.46875   , 155287.703125  , 159870.921875  ,\n",
       "        164454.15625   , 169037.390625  , 173620.625     , 178203.84375   ,\n",
       "        182787.078125  , 187370.3125    , 191953.53125   , 196536.765625  ,\n",
       "        201120.        , 205703.21875   , 210286.453125  , 214869.6875    ,\n",
       "        219452.90625   , 224036.140625  , 228619.375     , 233202.609375  ,\n",
       "        237785.828125  , 242369.0625    , 246952.296875  , 251535.515625  ,\n",
       "        256118.75      , 260701.984375  , 265285.21875   , 269868.4375    ,\n",
       "        274451.65625   , 279034.90625   , 283618.125     , 288201.34375   ,\n",
       "        292784.59375   , 297367.8125    , 301951.03125   , 306534.28125   ,\n",
       "        311117.5       , 315700.71875   , 320283.96875   , 324867.1875    ,\n",
       "        329450.4375    , 334033.65625   , 338616.875     , 343200.125     ,\n",
       "        347783.34375   , 352366.5625    , 356949.8125    , 361533.03125   ,\n",
       "        366116.25      , 370699.5       , 375282.71875   , 379865.9375    ,\n",
       "        384449.1875    , 389032.40625   , 393615.625     , 398198.875     ,\n",
       "        402782.09375   , 407365.3125    , 411948.5625    , 416531.78125   ,\n",
       "        421115.        , 425698.25      , 430281.46875   , 434864.6875    ,\n",
       "        439447.9375    , 444031.15625   , 448614.40625   , 453197.625     ,\n",
       "        457780.84375   , 462364.09375   , 466947.3125    , 471530.53125   ,\n",
       "        476113.78125   , 480697.        , 485280.21875   , 489863.46875   ,\n",
       "        494446.6875    ]),\n",
       " <BarContainer object of 100 artists>)"
      ]
     },
     "execution_count": 504,
     "metadata": {},
     "output_type": "execute_result"
    },
    {
     "data": {
      "image/png": "[encoded data removed]",
      "text/plain": [
       "<Figure size 640x480 with 1 Axes>"
      ]
     },
     "metadata": {},
     "output_type": "display_data"
    }
   ],
   "source": [
    "plt.hist(lasso_regressor[1],bins=100)"
   ]
  },
  {
   "cell_type": "markdown",
   "metadata": {},
   "source": [
    "<h2>Make predictions</h2>"
   ]
  },
  {
   "cell_type": "code",
   "execution_count": 29,
   "metadata": {},
   "outputs": [],
   "source": [
    "test_df=pd.read_csv('data/test.csv')"
   ]
  },
  {
   "cell_type": "code",
   "execution_count": 71,
   "metadata": {},
   "outputs": [],
   "source": [
    "y_train=df['SalePrice']\n",
    "x_train=df.drop(columns=['SalePrice','Id'])\n",
    "\n",
    "x_test=test_df.drop(columns=['Id'])\n",
    "\n",
    "\n",
    "num_fillna=lambda x:0\n",
    "num_scaler=StandardScaler()\n",
    "obj_formater=OneHotEncoder(handle_unknown='infrequent_if_exist')\n",
    "pca_n_components=0\n",
    "y_scaler=StandardScaler()\n",
    "\n",
    "x_train_formated,num_scaler,obj_formater,pca_formater,encode_columns=preproc_x_train(x_train,num_fillna,num_scaler,obj_formater,pca_n_components)\n",
    "x_test_formated=preproc_x_test(x_test,num_fillna,num_scaler,obj_formater,pca_formater,encode_columns)\n",
    "y_train_formated,y_scaler=preprocess_y_train(pd.DataFrame(y_train),y_scaler)"
   ]
  },
  {
   "cell_type": "code",
   "execution_count": 72,
   "metadata": {},
   "outputs": [
    {
     "name": "stderr",
     "output_type": "stream",
     "text": [
      "c:\\Python\\Lib\\site-packages\\xgboost\\data.py:312: FutureWarning:\n",
      "\n",
      "is_sparse is deprecated and will be removed in a future version. Check `isinstance(dtype, pd.SparseDtype)` instead.\n",
      "\n",
      "c:\\Python\\Lib\\site-packages\\xgboost\\data.py:314: FutureWarning:\n",
      "\n",
      "is_categorical_dtype is deprecated and will be removed in a future version. Use isinstance(dtype, CategoricalDtype) instead\n",
      "\n",
      "c:\\Python\\Lib\\site-packages\\xgboost\\data.py:345: FutureWarning:\n",
      "\n",
      "is_categorical_dtype is deprecated and will be removed in a future version. Use isinstance(dtype, CategoricalDtype) instead\n",
      "\n",
      "c:\\Python\\Lib\\site-packages\\xgboost\\data.py:336: FutureWarning:\n",
      "\n",
      "is_categorical_dtype is deprecated and will be removed in a future version. Use isinstance(dtype, CategoricalDtype) instead\n",
      "\n",
      "c:\\Python\\Lib\\site-packages\\xgboost\\data.py:345: FutureWarning:\n",
      "\n",
      "is_categorical_dtype is deprecated and will be removed in a future version. Use isinstance(dtype, CategoricalDtype) instead\n",
      "\n",
      "c:\\Python\\Lib\\site-packages\\xgboost\\data.py:336: FutureWarning:\n",
      "\n",
      "is_categorical_dtype is deprecated and will be removed in a future version. Use isinstance(dtype, CategoricalDtype) instead\n",
      "\n",
      "c:\\Python\\Lib\\site-packages\\xgboost\\data.py:312: FutureWarning:\n",
      "\n",
      "is_sparse is deprecated and will be removed in a future version. Check `isinstance(dtype, pd.SparseDtype)` instead.\n",
      "\n",
      "c:\\Python\\Lib\\site-packages\\xgboost\\data.py:314: FutureWarning:\n",
      "\n",
      "is_categorical_dtype is deprecated and will be removed in a future version. Use isinstance(dtype, CategoricalDtype) instead\n",
      "\n",
      "c:\\Python\\Lib\\site-packages\\xgboost\\data.py:345: FutureWarning:\n",
      "\n",
      "is_categorical_dtype is deprecated and will be removed in a future version. Use isinstance(dtype, CategoricalDtype) instead\n",
      "\n",
      "c:\\Python\\Lib\\site-packages\\xgboost\\data.py:336: FutureWarning:\n",
      "\n",
      "is_categorical_dtype is deprecated and will be removed in a future version. Use isinstance(dtype, CategoricalDtype) instead\n",
      "\n"
     ]
    }
   ],
   "source": [
    "params={'max_depth':2,\n",
    "        'n_estimators':1000,\n",
    "        \"objective\": \"reg:squarederror\",\n",
    "        \"learning_rate\": 0.1,\n",
    "        \"subsample\": 1,\n",
    "        \"colsample_bytree\":0.5,\n",
    "        \"colsample_bylevel\":0.8,\n",
    "        \"reg_lambda\":0.1,\n",
    "        \"eval_metric\": \"rmse\",\n",
    "        \"random_state\":1\n",
    "}\n",
    "\n",
    "regresssor=XGBRegressor(**params)\n",
    "regresssor.fit(x_train_formated[final_num_columns],y_train_formated)\n",
    "y_pred_scaled=pd.DataFrame(regresssor.predict(x_test_formated[final_num_columns]))\n",
    "y_pred=y_scaler.inverse_transform(y_pred_scaled)\n",
    "saleprice=pd.DataFrame(y_pred,columns=['SalePrice'])\n",
    "saleprice.index=range(1461,2920)\n",
    "saleprice.to_csv('answer.csv')"
   ]
  },
  {
   "cell_type": "code",
   "execution_count": 578,
   "metadata": {},
   "outputs": [],
   "source": []
  },
  {
   "cell_type": "code",
   "execution_count": 595,
   "metadata": {},
   "outputs": [],
   "source": []
  },
  {
   "cell_type": "code",
   "execution_count": 598,
   "metadata": {},
   "outputs": [],
   "source": []
  },
  {
   "cell_type": "code",
   "execution_count": null,
   "metadata": {},
   "outputs": [],
   "source": [
    "saleprice.index"
   ]
  },
  {
   "cell_type": "code",
   "execution_count": 600,
   "metadata": {},
   "outputs": [],
   "source": []
  }
 ],
 "metadata": {
  "kernelspec": {
   "display_name": "Python 3",
   "language": "python",
   "name": "python3"
  },
  "language_info": {
   "codemirror_mode": {
    "name": "ipython",
    "version": 3
   },
   "file_extension": ".py",
   "mimetype": "text/x-python",
   "name": "python",
   "nbconvert_exporter": "python",
   "pygments_lexer": "ipython3",
   "version": "3.11.5"
  },
  "orig_nbformat": 4
 },
 "nbformat": 4,
 "nbformat_minor": 2
}
